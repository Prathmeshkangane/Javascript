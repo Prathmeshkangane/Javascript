{
  "nbformat": 4,
  "nbformat_minor": 0,
  "metadata": {
    "colab": {
      "provenance": [],
      "authorship_tag": "ABX9TyN1rgQliJtn8v1jxa8zAL6w",
      "include_colab_link": true
    },
    "kernelspec": {
      "name": "python3",
      "display_name": "Python 3"
    },
    "language_info": {
      "name": "python"
    }
  },
  "cells": [
    {
      "cell_type": "markdown",
      "metadata": {
        "id": "view-in-github",
        "colab_type": "text"
      },
      "source": [
        "<a href=\"https://colab.research.google.com/github/Prathmeshkangane/Javascript/blob/main/Copy_of_research_paper.ipynb\" target=\"_parent\"><img src=\"https://colab.research.google.com/assets/colab-badge.svg\" alt=\"Open In Colab\"/></a>"
      ]
    },
    {
      "cell_type": "code",
      "execution_count": null,
      "metadata": {
        "id": "UHTyPjYrVtO4"
      },
      "outputs": [],
      "source": [
        "from tensorflow.keras import layers\n",
        "from tensorflow import keras\n",
        "import tensorflow as tf\n",
        "\n",
        "from sklearn.model_selection import train_test_split\n",
        "\n",
        "from ast import literal_eval\n",
        "\n",
        "import matplotlib.pyplot as plt\n",
        "import pandas as pd\n",
        "import numpy as np"
      ]
    },
    {
      "cell_type": "code",
      "source": [
        "arxiv_data = pd.read_csv(\"arxiv_data.csv\")"
      ],
      "metadata": {
        "id": "EEfNlf9uWuw8"
      },
      "execution_count": null,
      "outputs": []
    },
    {
      "cell_type": "markdown",
      "source": [
        "# New section"
      ],
      "metadata": {
        "id": "Zqt6l98PVurG"
      }
    },
    {
      "cell_type": "code",
      "source": [
        "arxiv_data.head()"
      ],
      "metadata": {
        "colab": {
          "base_uri": "https://localhost:8080/",
          "height": 206
        },
        "id": "Ao3rmUbuXkiM",
        "outputId": "da1bcb1b-91bf-4720-d520-385a1fdc8b31"
      },
      "execution_count": null,
      "outputs": [
        {
          "output_type": "execute_result",
          "data": {
            "text/plain": [
              "                                              titles  \\\n",
              "0  Survey on Semantic Stereo Matching / Semantic ...   \n",
              "1  FUTURE-AI: Guiding Principles and Consensus Re...   \n",
              "2  Enforcing Mutual Consistency of Hard Regions f...   \n",
              "3  Parameter Decoupling Strategy for Semi-supervi...   \n",
              "4  Background-Foreground Segmentation for Interio...   \n",
              "\n",
              "                                           summaries  \\\n",
              "0  Stereo matching is one of the widely used tech...   \n",
              "1  The recent advancements in artificial intellig...   \n",
              "2  In this paper, we proposed a novel mutual cons...   \n",
              "3  Consistency training has proven to be an advan...   \n",
              "4  To ensure safety in automated driving, the cor...   \n",
              "\n",
              "                         terms  \n",
              "0           ['cs.CV', 'cs.LG']  \n",
              "1  ['cs.CV', 'cs.AI', 'cs.LG']  \n",
              "2           ['cs.CV', 'cs.AI']  \n",
              "3                    ['cs.CV']  \n",
              "4           ['cs.CV', 'cs.LG']  "
            ],
            "text/html": [
              "\n",
              "  <div id=\"df-ba9fe070-e3a0-4b86-85e9-31a7d1680137\" class=\"colab-df-container\">\n",
              "    <div>\n",
              "<style scoped>\n",
              "    .dataframe tbody tr th:only-of-type {\n",
              "        vertical-align: middle;\n",
              "    }\n",
              "\n",
              "    .dataframe tbody tr th {\n",
              "        vertical-align: top;\n",
              "    }\n",
              "\n",
              "    .dataframe thead th {\n",
              "        text-align: right;\n",
              "    }\n",
              "</style>\n",
              "<table border=\"1\" class=\"dataframe\">\n",
              "  <thead>\n",
              "    <tr style=\"text-align: right;\">\n",
              "      <th></th>\n",
              "      <th>titles</th>\n",
              "      <th>summaries</th>\n",
              "      <th>terms</th>\n",
              "    </tr>\n",
              "  </thead>\n",
              "  <tbody>\n",
              "    <tr>\n",
              "      <th>0</th>\n",
              "      <td>Survey on Semantic Stereo Matching / Semantic ...</td>\n",
              "      <td>Stereo matching is one of the widely used tech...</td>\n",
              "      <td>['cs.CV', 'cs.LG']</td>\n",
              "    </tr>\n",
              "    <tr>\n",
              "      <th>1</th>\n",
              "      <td>FUTURE-AI: Guiding Principles and Consensus Re...</td>\n",
              "      <td>The recent advancements in artificial intellig...</td>\n",
              "      <td>['cs.CV', 'cs.AI', 'cs.LG']</td>\n",
              "    </tr>\n",
              "    <tr>\n",
              "      <th>2</th>\n",
              "      <td>Enforcing Mutual Consistency of Hard Regions f...</td>\n",
              "      <td>In this paper, we proposed a novel mutual cons...</td>\n",
              "      <td>['cs.CV', 'cs.AI']</td>\n",
              "    </tr>\n",
              "    <tr>\n",
              "      <th>3</th>\n",
              "      <td>Parameter Decoupling Strategy for Semi-supervi...</td>\n",
              "      <td>Consistency training has proven to be an advan...</td>\n",
              "      <td>['cs.CV']</td>\n",
              "    </tr>\n",
              "    <tr>\n",
              "      <th>4</th>\n",
              "      <td>Background-Foreground Segmentation for Interio...</td>\n",
              "      <td>To ensure safety in automated driving, the cor...</td>\n",
              "      <td>['cs.CV', 'cs.LG']</td>\n",
              "    </tr>\n",
              "  </tbody>\n",
              "</table>\n",
              "</div>\n",
              "    <div class=\"colab-df-buttons\">\n",
              "\n",
              "  <div class=\"colab-df-container\">\n",
              "    <button class=\"colab-df-convert\" onclick=\"convertToInteractive('df-ba9fe070-e3a0-4b86-85e9-31a7d1680137')\"\n",
              "            title=\"Convert this dataframe to an interactive table.\"\n",
              "            style=\"display:none;\">\n",
              "\n",
              "  <svg xmlns=\"http://www.w3.org/2000/svg\" height=\"24px\" viewBox=\"0 -960 960 960\">\n",
              "    <path d=\"M120-120v-720h720v720H120Zm60-500h600v-160H180v160Zm220 220h160v-160H400v160Zm0 220h160v-160H400v160ZM180-400h160v-160H180v160Zm440 0h160v-160H620v160ZM180-180h160v-160H180v160Zm440 0h160v-160H620v160Z\"/>\n",
              "  </svg>\n",
              "    </button>\n",
              "\n",
              "  <style>\n",
              "    .colab-df-container {\n",
              "      display:flex;\n",
              "      gap: 12px;\n",
              "    }\n",
              "\n",
              "    .colab-df-convert {\n",
              "      background-color: #E8F0FE;\n",
              "      border: none;\n",
              "      border-radius: 50%;\n",
              "      cursor: pointer;\n",
              "      display: none;\n",
              "      fill: #1967D2;\n",
              "      height: 32px;\n",
              "      padding: 0 0 0 0;\n",
              "      width: 32px;\n",
              "    }\n",
              "\n",
              "    .colab-df-convert:hover {\n",
              "      background-color: #E2EBFA;\n",
              "      box-shadow: 0px 1px 2px rgba(60, 64, 67, 0.3), 0px 1px 3px 1px rgba(60, 64, 67, 0.15);\n",
              "      fill: #174EA6;\n",
              "    }\n",
              "\n",
              "    .colab-df-buttons div {\n",
              "      margin-bottom: 4px;\n",
              "    }\n",
              "\n",
              "    [theme=dark] .colab-df-convert {\n",
              "      background-color: #3B4455;\n",
              "      fill: #D2E3FC;\n",
              "    }\n",
              "\n",
              "    [theme=dark] .colab-df-convert:hover {\n",
              "      background-color: #434B5C;\n",
              "      box-shadow: 0px 1px 3px 1px rgba(0, 0, 0, 0.15);\n",
              "      filter: drop-shadow(0px 1px 2px rgba(0, 0, 0, 0.3));\n",
              "      fill: #FFFFFF;\n",
              "    }\n",
              "  </style>\n",
              "\n",
              "    <script>\n",
              "      const buttonEl =\n",
              "        document.querySelector('#df-ba9fe070-e3a0-4b86-85e9-31a7d1680137 button.colab-df-convert');\n",
              "      buttonEl.style.display =\n",
              "        google.colab.kernel.accessAllowed ? 'block' : 'none';\n",
              "\n",
              "      async function convertToInteractive(key) {\n",
              "        const element = document.querySelector('#df-ba9fe070-e3a0-4b86-85e9-31a7d1680137');\n",
              "        const dataTable =\n",
              "          await google.colab.kernel.invokeFunction('convertToInteractive',\n",
              "                                                    [key], {});\n",
              "        if (!dataTable) return;\n",
              "\n",
              "        const docLinkHtml = 'Like what you see? Visit the ' +\n",
              "          '<a target=\"_blank\" href=https://colab.research.google.com/notebooks/data_table.ipynb>data table notebook</a>'\n",
              "          + ' to learn more about interactive tables.';\n",
              "        element.innerHTML = '';\n",
              "        dataTable['output_type'] = 'display_data';\n",
              "        await google.colab.output.renderOutput(dataTable, element);\n",
              "        const docLink = document.createElement('div');\n",
              "        docLink.innerHTML = docLinkHtml;\n",
              "        element.appendChild(docLink);\n",
              "      }\n",
              "    </script>\n",
              "  </div>\n",
              "\n",
              "\n",
              "<div id=\"df-e3a30779-efc9-4ae5-b08a-9d5fdb074750\">\n",
              "  <button class=\"colab-df-quickchart\" onclick=\"quickchart('df-e3a30779-efc9-4ae5-b08a-9d5fdb074750')\"\n",
              "            title=\"Suggest charts\"\n",
              "            style=\"display:none;\">\n",
              "\n",
              "<svg xmlns=\"http://www.w3.org/2000/svg\" height=\"24px\"viewBox=\"0 0 24 24\"\n",
              "     width=\"24px\">\n",
              "    <g>\n",
              "        <path d=\"M19 3H5c-1.1 0-2 .9-2 2v14c0 1.1.9 2 2 2h14c1.1 0 2-.9 2-2V5c0-1.1-.9-2-2-2zM9 17H7v-7h2v7zm4 0h-2V7h2v10zm4 0h-2v-4h2v4z\"/>\n",
              "    </g>\n",
              "</svg>\n",
              "  </button>\n",
              "\n",
              "<style>\n",
              "  .colab-df-quickchart {\n",
              "      --bg-color: #E8F0FE;\n",
              "      --fill-color: #1967D2;\n",
              "      --hover-bg-color: #E2EBFA;\n",
              "      --hover-fill-color: #174EA6;\n",
              "      --disabled-fill-color: #AAA;\n",
              "      --disabled-bg-color: #DDD;\n",
              "  }\n",
              "\n",
              "  [theme=dark] .colab-df-quickchart {\n",
              "      --bg-color: #3B4455;\n",
              "      --fill-color: #D2E3FC;\n",
              "      --hover-bg-color: #434B5C;\n",
              "      --hover-fill-color: #FFFFFF;\n",
              "      --disabled-bg-color: #3B4455;\n",
              "      --disabled-fill-color: #666;\n",
              "  }\n",
              "\n",
              "  .colab-df-quickchart {\n",
              "    background-color: var(--bg-color);\n",
              "    border: none;\n",
              "    border-radius: 50%;\n",
              "    cursor: pointer;\n",
              "    display: none;\n",
              "    fill: var(--fill-color);\n",
              "    height: 32px;\n",
              "    padding: 0;\n",
              "    width: 32px;\n",
              "  }\n",
              "\n",
              "  .colab-df-quickchart:hover {\n",
              "    background-color: var(--hover-bg-color);\n",
              "    box-shadow: 0 1px 2px rgba(60, 64, 67, 0.3), 0 1px 3px 1px rgba(60, 64, 67, 0.15);\n",
              "    fill: var(--button-hover-fill-color);\n",
              "  }\n",
              "\n",
              "  .colab-df-quickchart-complete:disabled,\n",
              "  .colab-df-quickchart-complete:disabled:hover {\n",
              "    background-color: var(--disabled-bg-color);\n",
              "    fill: var(--disabled-fill-color);\n",
              "    box-shadow: none;\n",
              "  }\n",
              "\n",
              "  .colab-df-spinner {\n",
              "    border: 2px solid var(--fill-color);\n",
              "    border-color: transparent;\n",
              "    border-bottom-color: var(--fill-color);\n",
              "    animation:\n",
              "      spin 1s steps(1) infinite;\n",
              "  }\n",
              "\n",
              "  @keyframes spin {\n",
              "    0% {\n",
              "      border-color: transparent;\n",
              "      border-bottom-color: var(--fill-color);\n",
              "      border-left-color: var(--fill-color);\n",
              "    }\n",
              "    20% {\n",
              "      border-color: transparent;\n",
              "      border-left-color: var(--fill-color);\n",
              "      border-top-color: var(--fill-color);\n",
              "    }\n",
              "    30% {\n",
              "      border-color: transparent;\n",
              "      border-left-color: var(--fill-color);\n",
              "      border-top-color: var(--fill-color);\n",
              "      border-right-color: var(--fill-color);\n",
              "    }\n",
              "    40% {\n",
              "      border-color: transparent;\n",
              "      border-right-color: var(--fill-color);\n",
              "      border-top-color: var(--fill-color);\n",
              "    }\n",
              "    60% {\n",
              "      border-color: transparent;\n",
              "      border-right-color: var(--fill-color);\n",
              "    }\n",
              "    80% {\n",
              "      border-color: transparent;\n",
              "      border-right-color: var(--fill-color);\n",
              "      border-bottom-color: var(--fill-color);\n",
              "    }\n",
              "    90% {\n",
              "      border-color: transparent;\n",
              "      border-bottom-color: var(--fill-color);\n",
              "    }\n",
              "  }\n",
              "</style>\n",
              "\n",
              "  <script>\n",
              "    async function quickchart(key) {\n",
              "      const quickchartButtonEl =\n",
              "        document.querySelector('#' + key + ' button');\n",
              "      quickchartButtonEl.disabled = true;  // To prevent multiple clicks.\n",
              "      quickchartButtonEl.classList.add('colab-df-spinner');\n",
              "      try {\n",
              "        const charts = await google.colab.kernel.invokeFunction(\n",
              "            'suggestCharts', [key], {});\n",
              "      } catch (error) {\n",
              "        console.error('Error during call to suggestCharts:', error);\n",
              "      }\n",
              "      quickchartButtonEl.classList.remove('colab-df-spinner');\n",
              "      quickchartButtonEl.classList.add('colab-df-quickchart-complete');\n",
              "    }\n",
              "    (() => {\n",
              "      let quickchartButtonEl =\n",
              "        document.querySelector('#df-e3a30779-efc9-4ae5-b08a-9d5fdb074750 button');\n",
              "      quickchartButtonEl.style.display =\n",
              "        google.colab.kernel.accessAllowed ? 'block' : 'none';\n",
              "    })();\n",
              "  </script>\n",
              "</div>\n",
              "\n",
              "    </div>\n",
              "  </div>\n"
            ],
            "application/vnd.google.colaboratory.intrinsic+json": {
              "type": "dataframe",
              "variable_name": "arxiv_data",
              "summary": "{\n  \"name\": \"arxiv_data\",\n  \"rows\": 51774,\n  \"fields\": [\n    {\n      \"column\": \"titles\",\n      \"properties\": {\n        \"dtype\": \"string\",\n        \"num_unique_values\": 38972,\n        \"samples\": [\n          \"Sum-Product-Transform Networks: Exploiting Symmetries using Invertible Transformations\",\n          \"A Primal-Dual Subgradient Approachfor Fair Meta Learning\",\n          \"Adversarial Multi-Source Transfer Learning in Healthcare: Application to Glucose Prediction for Diabetic People\"\n        ],\n        \"semantic_type\": \"\",\n        \"description\": \"\"\n      }\n    },\n    {\n      \"column\": \"summaries\",\n      \"properties\": {\n        \"dtype\": \"string\",\n        \"num_unique_values\": 38979,\n        \"samples\": [\n          \"Continual learning (CL) is a setting in which an agent has to learn from an\\nincoming stream of data during its entire lifetime. Although major advances\\nhave been made in the field, one recurring problem which remains unsolved is\\nthat of Catastrophic Forgetting (CF). While the issue has been extensively\\nstudied empirically, little attention has been paid from a theoretical angle.\\nIn this paper, we show that the impact of CF increases as two tasks\\nincreasingly align. We introduce a measure of task similarity called the NTK\\noverlap matrix which is at the core of CF. We analyze common projected gradient\\nalgorithms and demonstrate how they mitigate forgetting. Then, we propose a\\nvariant of Orthogonal Gradient Descent (OGD) which leverages structure of the\\ndata through Principal Component Analysis (PCA). Experiments support our\\ntheoretical findings and show how our method can help reduce CF on classical CL\\ndatasets.\",\n          \"Few-shot learning is a challenging task since only few instances are given\\nfor recognizing an unseen class. One way to alleviate this problem is to\\nacquire a strong inductive bias via meta-learning on similar tasks. In this\\npaper, we show that such inductive bias can be learned from a flat collection\\nof unlabeled images, and instantiated as transferable representations among\\nseen and unseen classes. Specifically, we propose a novel part-based\\nself-supervised representation learning scheme to learn transferable\\nrepresentations by maximizing the similarity of an image to its discriminative\\npart. To mitigate the overfitting in few-shot classification caused by data\\nscarcity, we further propose a part augmentation strategy by retrieving extra\\nimages from a base dataset. We conduct systematic studies on miniImageNet and\\ntieredImageNet benchmarks. Remarkably, our method yields impressive results,\\noutperforming the previous best unsupervised methods by 7.74% and 9.24% under\\n5-way 1-shot and 5-way 5-shot settings, which are comparable with\\nstate-of-the-art supervised methods.\",\n          \"Surgical instrument segmentation is extremely important for computer-assisted\\nsurgery. Different from common object segmentation, it is more challenging due\\nto the large illumination and scale variation caused by the special surgical\\nscenes. In this paper, we propose a novel bilinear attention network with\\nadaptive receptive field to solve these two challenges. For the illumination\\nvariation, the bilinear attention module can capture second-order statistics to\\nencode global contexts and semantic dependencies between local pixels. With\\nthem, semantic features in challenging areas can be inferred from their\\nneighbors and the distinction of various semantics can be boosted. For the\\nscale variation, our adaptive receptive field module aggregates multi-scale\\nfeatures and automatically fuses them with different weights. Specifically, it\\nencodes the semantic relationship between channels to emphasize feature maps\\nwith appropriate scales, changing the receptive field of subsequent\\nconvolutions. The proposed network achieves the best performance 97.47% mean\\nIOU on Cata7 and comes first place on EndoVis 2017 by 10.10% IOU overtaking\\nsecond-ranking method.\"\n        ],\n        \"semantic_type\": \"\",\n        \"description\": \"\"\n      }\n    },\n    {\n      \"column\": \"terms\",\n      \"properties\": {\n        \"dtype\": \"category\",\n        \"num_unique_values\": 3157,\n        \"samples\": [\n          \"['cs.LG', 'cs.CE', 'q-fin.ST', 'stat.ML']\",\n          \"['cs.LG', 'physics.comp-ph', 'physics.flu-dyn']\",\n          \"['cs.LG', 'cs.CV', 'math.AT']\"\n        ],\n        \"semantic_type\": \"\",\n        \"description\": \"\"\n      }\n    }\n  ]\n}"
            }
          },
          "metadata": {},
          "execution_count": 4
        }
      ]
    },
    {
      "cell_type": "code",
      "source": [
        "arxiv_data.shape"
      ],
      "metadata": {
        "colab": {
          "base_uri": "https://localhost:8080/"
        },
        "id": "R-KJA4rkXn75",
        "outputId": "c17610ec-2449-4ac0-f63b-b058b14e56e6"
      },
      "execution_count": null,
      "outputs": [
        {
          "output_type": "execute_result",
          "data": {
            "text/plain": [
              "(51774, 3)"
            ]
          },
          "metadata": {},
          "execution_count": 5
        }
      ]
    },
    {
      "cell_type": "code",
      "source": [
        "arxiv_data.isnull().sum()"
      ],
      "metadata": {
        "colab": {
          "base_uri": "https://localhost:8080/",
          "height": 178
        },
        "id": "e0jcuJ3tXn-B",
        "outputId": "1cefb340-d0b4-4942-ee99-572c96461250"
      },
      "execution_count": null,
      "outputs": [
        {
          "output_type": "execute_result",
          "data": {
            "text/plain": [
              "titles       0\n",
              "summaries    0\n",
              "terms        0\n",
              "dtype: int64"
            ],
            "text/html": [
              "<div>\n",
              "<style scoped>\n",
              "    .dataframe tbody tr th:only-of-type {\n",
              "        vertical-align: middle;\n",
              "    }\n",
              "\n",
              "    .dataframe tbody tr th {\n",
              "        vertical-align: top;\n",
              "    }\n",
              "\n",
              "    .dataframe thead th {\n",
              "        text-align: right;\n",
              "    }\n",
              "</style>\n",
              "<table border=\"1\" class=\"dataframe\">\n",
              "  <thead>\n",
              "    <tr style=\"text-align: right;\">\n",
              "      <th></th>\n",
              "      <th>0</th>\n",
              "    </tr>\n",
              "  </thead>\n",
              "  <tbody>\n",
              "    <tr>\n",
              "      <th>titles</th>\n",
              "      <td>0</td>\n",
              "    </tr>\n",
              "    <tr>\n",
              "      <th>summaries</th>\n",
              "      <td>0</td>\n",
              "    </tr>\n",
              "    <tr>\n",
              "      <th>terms</th>\n",
              "      <td>0</td>\n",
              "    </tr>\n",
              "  </tbody>\n",
              "</table>\n",
              "</div><br><label><b>dtype:</b> int64</label>"
            ]
          },
          "metadata": {},
          "execution_count": 6
        }
      ]
    },
    {
      "cell_type": "code",
      "source": [
        "arxiv_data.drop(columns = [\"terms\",\"summaries\"], inplace = True)"
      ],
      "metadata": {
        "id": "Y7EYPLWSXn_6"
      },
      "execution_count": null,
      "outputs": []
    },
    {
      "cell_type": "code",
      "source": [
        "arxiv_data.drop_duplicates(inplace= True)\n",
        "arxiv_data.reset_index(drop= True,inplace = True)"
      ],
      "metadata": {
        "id": "eVNcfoPLXoCC"
      },
      "execution_count": null,
      "outputs": []
    },
    {
      "cell_type": "code",
      "source": [
        "pd.set_option('display.max_colwidth', None)\n",
        "arxiv_data"
      ],
      "metadata": {
        "colab": {
          "base_uri": "https://localhost:8080/",
          "height": 423
        },
        "id": "IHJ8lMo3XoDn",
        "outputId": "0e89d55a-0bde-4b82-f368-ea278c881ab8"
      },
      "execution_count": null,
      "outputs": [
        {
          "output_type": "execute_result",
          "data": {
            "text/plain": [
              "                                                                                                                              titles\n",
              "0                                                                     Survey on Semantic Stereo Matching / Semantic Depth Estimation\n",
              "1      FUTURE-AI: Guiding Principles and Consensus Recommendations for Trustworthy Artificial Intelligence in Future Medical Imaging\n",
              "2                                        Enforcing Mutual Consistency of Hard Regions for Semi-supervised Medical Image Segmentation\n",
              "3                                                      Parameter Decoupling Strategy for Semi-supervised 3D Left Atrium Segmentation\n",
              "4                                                     Background-Foreground Segmentation for Interior Sensing in Automotive Industry\n",
              "...                                                                                                                              ...\n",
              "38967                            A Ray-based Approach for Boundary Estimation of Fiber Bundles Derived from Diffusion Tensor Imaging\n",
              "38968                                                      Statistical Denoising for single molecule fluorescence microscopic images\n",
              "38969                                                                                                     Blinking Molecule Tracking\n",
              "38970                                                          Towards a Mathematical Foundation of Immunology and Amino Acid Chains\n",
              "38971                A Semi-Automatic Graph-Based Approach for Determining the Boundary of Eloquent Fiber Bundles in the Human Brain\n",
              "\n",
              "[38972 rows x 1 columns]"
            ],
            "text/html": [
              "\n",
              "  <div id=\"df-8984a49a-2b4d-4441-b0c7-a3662a2980d4\" class=\"colab-df-container\">\n",
              "    <div>\n",
              "<style scoped>\n",
              "    .dataframe tbody tr th:only-of-type {\n",
              "        vertical-align: middle;\n",
              "    }\n",
              "\n",
              "    .dataframe tbody tr th {\n",
              "        vertical-align: top;\n",
              "    }\n",
              "\n",
              "    .dataframe thead th {\n",
              "        text-align: right;\n",
              "    }\n",
              "</style>\n",
              "<table border=\"1\" class=\"dataframe\">\n",
              "  <thead>\n",
              "    <tr style=\"text-align: right;\">\n",
              "      <th></th>\n",
              "      <th>titles</th>\n",
              "    </tr>\n",
              "  </thead>\n",
              "  <tbody>\n",
              "    <tr>\n",
              "      <th>0</th>\n",
              "      <td>Survey on Semantic Stereo Matching / Semantic Depth Estimation</td>\n",
              "    </tr>\n",
              "    <tr>\n",
              "      <th>1</th>\n",
              "      <td>FUTURE-AI: Guiding Principles and Consensus Recommendations for Trustworthy Artificial Intelligence in Future Medical Imaging</td>\n",
              "    </tr>\n",
              "    <tr>\n",
              "      <th>2</th>\n",
              "      <td>Enforcing Mutual Consistency of Hard Regions for Semi-supervised Medical Image Segmentation</td>\n",
              "    </tr>\n",
              "    <tr>\n",
              "      <th>3</th>\n",
              "      <td>Parameter Decoupling Strategy for Semi-supervised 3D Left Atrium Segmentation</td>\n",
              "    </tr>\n",
              "    <tr>\n",
              "      <th>4</th>\n",
              "      <td>Background-Foreground Segmentation for Interior Sensing in Automotive Industry</td>\n",
              "    </tr>\n",
              "    <tr>\n",
              "      <th>...</th>\n",
              "      <td>...</td>\n",
              "    </tr>\n",
              "    <tr>\n",
              "      <th>38967</th>\n",
              "      <td>A Ray-based Approach for Boundary Estimation of Fiber Bundles Derived from Diffusion Tensor Imaging</td>\n",
              "    </tr>\n",
              "    <tr>\n",
              "      <th>38968</th>\n",
              "      <td>Statistical Denoising for single molecule fluorescence microscopic images</td>\n",
              "    </tr>\n",
              "    <tr>\n",
              "      <th>38969</th>\n",
              "      <td>Blinking Molecule Tracking</td>\n",
              "    </tr>\n",
              "    <tr>\n",
              "      <th>38970</th>\n",
              "      <td>Towards a Mathematical Foundation of Immunology and Amino Acid Chains</td>\n",
              "    </tr>\n",
              "    <tr>\n",
              "      <th>38971</th>\n",
              "      <td>A Semi-Automatic Graph-Based Approach for Determining the Boundary of Eloquent Fiber Bundles in the Human Brain</td>\n",
              "    </tr>\n",
              "  </tbody>\n",
              "</table>\n",
              "<p>38972 rows × 1 columns</p>\n",
              "</div>\n",
              "    <div class=\"colab-df-buttons\">\n",
              "\n",
              "  <div class=\"colab-df-container\">\n",
              "    <button class=\"colab-df-convert\" onclick=\"convertToInteractive('df-8984a49a-2b4d-4441-b0c7-a3662a2980d4')\"\n",
              "            title=\"Convert this dataframe to an interactive table.\"\n",
              "            style=\"display:none;\">\n",
              "\n",
              "  <svg xmlns=\"http://www.w3.org/2000/svg\" height=\"24px\" viewBox=\"0 -960 960 960\">\n",
              "    <path d=\"M120-120v-720h720v720H120Zm60-500h600v-160H180v160Zm220 220h160v-160H400v160Zm0 220h160v-160H400v160ZM180-400h160v-160H180v160Zm440 0h160v-160H620v160ZM180-180h160v-160H180v160Zm440 0h160v-160H620v160Z\"/>\n",
              "  </svg>\n",
              "    </button>\n",
              "\n",
              "  <style>\n",
              "    .colab-df-container {\n",
              "      display:flex;\n",
              "      gap: 12px;\n",
              "    }\n",
              "\n",
              "    .colab-df-convert {\n",
              "      background-color: #E8F0FE;\n",
              "      border: none;\n",
              "      border-radius: 50%;\n",
              "      cursor: pointer;\n",
              "      display: none;\n",
              "      fill: #1967D2;\n",
              "      height: 32px;\n",
              "      padding: 0 0 0 0;\n",
              "      width: 32px;\n",
              "    }\n",
              "\n",
              "    .colab-df-convert:hover {\n",
              "      background-color: #E2EBFA;\n",
              "      box-shadow: 0px 1px 2px rgba(60, 64, 67, 0.3), 0px 1px 3px 1px rgba(60, 64, 67, 0.15);\n",
              "      fill: #174EA6;\n",
              "    }\n",
              "\n",
              "    .colab-df-buttons div {\n",
              "      margin-bottom: 4px;\n",
              "    }\n",
              "\n",
              "    [theme=dark] .colab-df-convert {\n",
              "      background-color: #3B4455;\n",
              "      fill: #D2E3FC;\n",
              "    }\n",
              "\n",
              "    [theme=dark] .colab-df-convert:hover {\n",
              "      background-color: #434B5C;\n",
              "      box-shadow: 0px 1px 3px 1px rgba(0, 0, 0, 0.15);\n",
              "      filter: drop-shadow(0px 1px 2px rgba(0, 0, 0, 0.3));\n",
              "      fill: #FFFFFF;\n",
              "    }\n",
              "  </style>\n",
              "\n",
              "    <script>\n",
              "      const buttonEl =\n",
              "        document.querySelector('#df-8984a49a-2b4d-4441-b0c7-a3662a2980d4 button.colab-df-convert');\n",
              "      buttonEl.style.display =\n",
              "        google.colab.kernel.accessAllowed ? 'block' : 'none';\n",
              "\n",
              "      async function convertToInteractive(key) {\n",
              "        const element = document.querySelector('#df-8984a49a-2b4d-4441-b0c7-a3662a2980d4');\n",
              "        const dataTable =\n",
              "          await google.colab.kernel.invokeFunction('convertToInteractive',\n",
              "                                                    [key], {});\n",
              "        if (!dataTable) return;\n",
              "\n",
              "        const docLinkHtml = 'Like what you see? Visit the ' +\n",
              "          '<a target=\"_blank\" href=https://colab.research.google.com/notebooks/data_table.ipynb>data table notebook</a>'\n",
              "          + ' to learn more about interactive tables.';\n",
              "        element.innerHTML = '';\n",
              "        dataTable['output_type'] = 'display_data';\n",
              "        await google.colab.output.renderOutput(dataTable, element);\n",
              "        const docLink = document.createElement('div');\n",
              "        docLink.innerHTML = docLinkHtml;\n",
              "        element.appendChild(docLink);\n",
              "      }\n",
              "    </script>\n",
              "  </div>\n",
              "\n",
              "\n",
              "<div id=\"df-93eba76c-c8bc-489d-a382-caed481d5787\">\n",
              "  <button class=\"colab-df-quickchart\" onclick=\"quickchart('df-93eba76c-c8bc-489d-a382-caed481d5787')\"\n",
              "            title=\"Suggest charts\"\n",
              "            style=\"display:none;\">\n",
              "\n",
              "<svg xmlns=\"http://www.w3.org/2000/svg\" height=\"24px\"viewBox=\"0 0 24 24\"\n",
              "     width=\"24px\">\n",
              "    <g>\n",
              "        <path d=\"M19 3H5c-1.1 0-2 .9-2 2v14c0 1.1.9 2 2 2h14c1.1 0 2-.9 2-2V5c0-1.1-.9-2-2-2zM9 17H7v-7h2v7zm4 0h-2V7h2v10zm4 0h-2v-4h2v4z\"/>\n",
              "    </g>\n",
              "</svg>\n",
              "  </button>\n",
              "\n",
              "<style>\n",
              "  .colab-df-quickchart {\n",
              "      --bg-color: #E8F0FE;\n",
              "      --fill-color: #1967D2;\n",
              "      --hover-bg-color: #E2EBFA;\n",
              "      --hover-fill-color: #174EA6;\n",
              "      --disabled-fill-color: #AAA;\n",
              "      --disabled-bg-color: #DDD;\n",
              "  }\n",
              "\n",
              "  [theme=dark] .colab-df-quickchart {\n",
              "      --bg-color: #3B4455;\n",
              "      --fill-color: #D2E3FC;\n",
              "      --hover-bg-color: #434B5C;\n",
              "      --hover-fill-color: #FFFFFF;\n",
              "      --disabled-bg-color: #3B4455;\n",
              "      --disabled-fill-color: #666;\n",
              "  }\n",
              "\n",
              "  .colab-df-quickchart {\n",
              "    background-color: var(--bg-color);\n",
              "    border: none;\n",
              "    border-radius: 50%;\n",
              "    cursor: pointer;\n",
              "    display: none;\n",
              "    fill: var(--fill-color);\n",
              "    height: 32px;\n",
              "    padding: 0;\n",
              "    width: 32px;\n",
              "  }\n",
              "\n",
              "  .colab-df-quickchart:hover {\n",
              "    background-color: var(--hover-bg-color);\n",
              "    box-shadow: 0 1px 2px rgba(60, 64, 67, 0.3), 0 1px 3px 1px rgba(60, 64, 67, 0.15);\n",
              "    fill: var(--button-hover-fill-color);\n",
              "  }\n",
              "\n",
              "  .colab-df-quickchart-complete:disabled,\n",
              "  .colab-df-quickchart-complete:disabled:hover {\n",
              "    background-color: var(--disabled-bg-color);\n",
              "    fill: var(--disabled-fill-color);\n",
              "    box-shadow: none;\n",
              "  }\n",
              "\n",
              "  .colab-df-spinner {\n",
              "    border: 2px solid var(--fill-color);\n",
              "    border-color: transparent;\n",
              "    border-bottom-color: var(--fill-color);\n",
              "    animation:\n",
              "      spin 1s steps(1) infinite;\n",
              "  }\n",
              "\n",
              "  @keyframes spin {\n",
              "    0% {\n",
              "      border-color: transparent;\n",
              "      border-bottom-color: var(--fill-color);\n",
              "      border-left-color: var(--fill-color);\n",
              "    }\n",
              "    20% {\n",
              "      border-color: transparent;\n",
              "      border-left-color: var(--fill-color);\n",
              "      border-top-color: var(--fill-color);\n",
              "    }\n",
              "    30% {\n",
              "      border-color: transparent;\n",
              "      border-left-color: var(--fill-color);\n",
              "      border-top-color: var(--fill-color);\n",
              "      border-right-color: var(--fill-color);\n",
              "    }\n",
              "    40% {\n",
              "      border-color: transparent;\n",
              "      border-right-color: var(--fill-color);\n",
              "      border-top-color: var(--fill-color);\n",
              "    }\n",
              "    60% {\n",
              "      border-color: transparent;\n",
              "      border-right-color: var(--fill-color);\n",
              "    }\n",
              "    80% {\n",
              "      border-color: transparent;\n",
              "      border-right-color: var(--fill-color);\n",
              "      border-bottom-color: var(--fill-color);\n",
              "    }\n",
              "    90% {\n",
              "      border-color: transparent;\n",
              "      border-bottom-color: var(--fill-color);\n",
              "    }\n",
              "  }\n",
              "</style>\n",
              "\n",
              "  <script>\n",
              "    async function quickchart(key) {\n",
              "      const quickchartButtonEl =\n",
              "        document.querySelector('#' + key + ' button');\n",
              "      quickchartButtonEl.disabled = true;  // To prevent multiple clicks.\n",
              "      quickchartButtonEl.classList.add('colab-df-spinner');\n",
              "      try {\n",
              "        const charts = await google.colab.kernel.invokeFunction(\n",
              "            'suggestCharts', [key], {});\n",
              "      } catch (error) {\n",
              "        console.error('Error during call to suggestCharts:', error);\n",
              "      }\n",
              "      quickchartButtonEl.classList.remove('colab-df-spinner');\n",
              "      quickchartButtonEl.classList.add('colab-df-quickchart-complete');\n",
              "    }\n",
              "    (() => {\n",
              "      let quickchartButtonEl =\n",
              "        document.querySelector('#df-93eba76c-c8bc-489d-a382-caed481d5787 button');\n",
              "      quickchartButtonEl.style.display =\n",
              "        google.colab.kernel.accessAllowed ? 'block' : 'none';\n",
              "    })();\n",
              "  </script>\n",
              "</div>\n",
              "\n",
              "  <div id=\"id_0e3646aa-3cc3-45b2-8e86-9bdb76346d0d\">\n",
              "    <style>\n",
              "      .colab-df-generate {\n",
              "        background-color: #E8F0FE;\n",
              "        border: none;\n",
              "        border-radius: 50%;\n",
              "        cursor: pointer;\n",
              "        display: none;\n",
              "        fill: #1967D2;\n",
              "        height: 32px;\n",
              "        padding: 0 0 0 0;\n",
              "        width: 32px;\n",
              "      }\n",
              "\n",
              "      .colab-df-generate:hover {\n",
              "        background-color: #E2EBFA;\n",
              "        box-shadow: 0px 1px 2px rgba(60, 64, 67, 0.3), 0px 1px 3px 1px rgba(60, 64, 67, 0.15);\n",
              "        fill: #174EA6;\n",
              "      }\n",
              "\n",
              "      [theme=dark] .colab-df-generate {\n",
              "        background-color: #3B4455;\n",
              "        fill: #D2E3FC;\n",
              "      }\n",
              "\n",
              "      [theme=dark] .colab-df-generate:hover {\n",
              "        background-color: #434B5C;\n",
              "        box-shadow: 0px 1px 3px 1px rgba(0, 0, 0, 0.15);\n",
              "        filter: drop-shadow(0px 1px 2px rgba(0, 0, 0, 0.3));\n",
              "        fill: #FFFFFF;\n",
              "      }\n",
              "    </style>\n",
              "    <button class=\"colab-df-generate\" onclick=\"generateWithVariable('arxiv_data')\"\n",
              "            title=\"Generate code using this dataframe.\"\n",
              "            style=\"display:none;\">\n",
              "\n",
              "  <svg xmlns=\"http://www.w3.org/2000/svg\" height=\"24px\"viewBox=\"0 0 24 24\"\n",
              "       width=\"24px\">\n",
              "    <path d=\"M7,19H8.4L18.45,9,17,7.55,7,17.6ZM5,21V16.75L18.45,3.32a2,2,0,0,1,2.83,0l1.4,1.43a1.91,1.91,0,0,1,.58,1.4,1.91,1.91,0,0,1-.58,1.4L9.25,21ZM18.45,9,17,7.55Zm-12,3A5.31,5.31,0,0,0,4.9,8.1,5.31,5.31,0,0,0,1,6.5,5.31,5.31,0,0,0,4.9,4.9,5.31,5.31,0,0,0,6.5,1,5.31,5.31,0,0,0,8.1,4.9,5.31,5.31,0,0,0,12,6.5,5.46,5.46,0,0,0,6.5,12Z\"/>\n",
              "  </svg>\n",
              "    </button>\n",
              "    <script>\n",
              "      (() => {\n",
              "      const buttonEl =\n",
              "        document.querySelector('#id_0e3646aa-3cc3-45b2-8e86-9bdb76346d0d button.colab-df-generate');\n",
              "      buttonEl.style.display =\n",
              "        google.colab.kernel.accessAllowed ? 'block' : 'none';\n",
              "\n",
              "      buttonEl.onclick = () => {\n",
              "        google.colab.notebook.generateWithVariable('arxiv_data');\n",
              "      }\n",
              "      })();\n",
              "    </script>\n",
              "  </div>\n",
              "\n",
              "    </div>\n",
              "  </div>\n"
            ],
            "application/vnd.google.colaboratory.intrinsic+json": {
              "type": "dataframe",
              "variable_name": "arxiv_data",
              "summary": "{\n  \"name\": \"arxiv_data\",\n  \"rows\": 38972,\n  \"fields\": [\n    {\n      \"column\": \"titles\",\n      \"properties\": {\n        \"dtype\": \"string\",\n        \"num_unique_values\": 38972,\n        \"samples\": [\n          \"Sum-Product-Transform Networks: Exploiting Symmetries using Invertible Transformations\",\n          \"A Primal-Dual Subgradient Approachfor Fair Meta Learning\",\n          \"Adversarial Multi-Source Transfer Learning in Healthcare: Application to Glucose Prediction for Diabetic People\"\n        ],\n        \"semantic_type\": \"\",\n        \"description\": \"\"\n      }\n    }\n  ]\n}"
            }
          },
          "metadata": {},
          "execution_count": 9
        }
      ]
    },
    {
      "cell_type": "code",
      "source": [
        "# prompt: pip install -U -q sentence-transformers\n",
        "\n",
        "!pip install -U -q sentence-transformers\n"
      ],
      "metadata": {
        "id": "UiqyAMKKXoFz"
      },
      "execution_count": null,
      "outputs": []
    },
    {
      "cell_type": "code",
      "source": [
        "\n",
        "!pip install -U -q sentence-transformers"
      ],
      "metadata": {
        "id": "95dbSFNEXoH0"
      },
      "execution_count": null,
      "outputs": []
    },
    {
      "cell_type": "code",
      "source": [
        "# This imports the SentenceTransformer class from the Sentence Transformers library.\n",
        "from sentence_transformers import SentenceTransformer, util\n",
        "# we load all-MiniLM-L6-v2, which is a MiniLM model fine tuned on a large dataset of over\n",
        "# 1 billion training pairs.\n",
        "#This initializes the 'all-MiniLM-L6-v2' model from Sentence Transformers.\n",
        "# This model is capable of encoding sentences into fixed-size vectors (embeddings).\n",
        "model = SentenceTransformer('all-MiniLM-L6-v2')\n",
        "#Our sentences we like to encode\n",
        "sentences = arxiv_data['titles']\n",
        "#Sentences are encoded by calling model.encode()\n",
        "embeddings = model.encode(sentences)\n"
      ],
      "metadata": {
        "colab": {
          "base_uri": "https://localhost:8080/"
        },
        "id": "uLiKxEhdXoLQ",
        "outputId": "a28c5a34-e811-4850-cd22-54d5466cc1d3"
      },
      "execution_count": null,
      "outputs": [
        {
          "output_type": "stream",
          "name": "stderr",
          "text": [
            "/usr/local/lib/python3.10/dist-packages/transformers/tokenization_utils_base.py:1601: FutureWarning: `clean_up_tokenization_spaces` was not set. It will be set to `True` by default. This behavior will be depracted in transformers v4.45, and will be then set to `False` by default. For more details check this issue: https://github.com/huggingface/transformers/issues/31884\n",
            "  warnings.warn(\n"
          ]
        }
      ]
    },
    {
      "cell_type": "code",
      "source": [
        "embeddings"
      ],
      "metadata": {
        "colab": {
          "base_uri": "https://localhost:8080/"
        },
        "id": "L7xO30UVYNZv",
        "outputId": "8201eae2-a1ed-48db-c4a7-204130703115"
      },
      "execution_count": null,
      "outputs": [
        {
          "output_type": "execute_result",
          "data": {
            "text/plain": [
              "array([[-3.73324528e-02, -5.35853964e-04, -4.86986935e-02, ...,\n",
              "         4.00168002e-02, -8.07432830e-03, -1.12721205e-01],\n",
              "       [-6.75695911e-02, -3.25633511e-02,  2.85481997e-02, ...,\n",
              "         5.83392084e-02, -2.35455465e-02, -3.87291498e-02],\n",
              "       [ 3.01970448e-02, -1.08658598e-04,  6.92958608e-02, ...,\n",
              "         7.74509385e-02, -9.04723331e-02, -3.32056321e-02],\n",
              "       ...,\n",
              "       [-5.21420836e-02, -8.82680565e-02, -5.11411391e-02, ...,\n",
              "        -6.05786853e-02,  5.92942759e-02, -2.94687990e-02],\n",
              "       [-1.54421804e-02, -7.96080381e-02,  1.47850392e-02, ...,\n",
              "         1.22725694e-02,  2.37942711e-02, -4.95932437e-02],\n",
              "       [ 2.12828852e-02, -7.37964511e-02,  6.02626577e-02, ...,\n",
              "         1.05841145e-01, -3.17206681e-02, -1.08712152e-01]], dtype=float32)"
            ]
          },
          "metadata": {},
          "execution_count": 14
        }
      ]
    },
    {
      "cell_type": "code",
      "source": [
        "c = 0\n",
        "#This loop iterates over pairs of sentences and their corresponding embeddings.\n",
        "#zip is used to iterate over both lists simultaneously.\n",
        "for sentence, embedding in zip(sentences, embeddings):\n",
        "    print(\"Sentence:\", sentence)\n",
        "    print(\"Embedding length:\", len(embedding)) # list of floats\n",
        "    print(\"\")\n",
        "    # Breaks out of the loop after printing information for the first 5 sentences.\n",
        "    if c >=5:\n",
        "        break\n",
        "    c +=1"
      ],
      "metadata": {
        "colab": {
          "base_uri": "https://localhost:8080/"
        },
        "id": "wAl9CMBSYNbu",
        "outputId": "17e393ae-e3a9-48f8-a17d-794580cb9c51"
      },
      "execution_count": null,
      "outputs": [
        {
          "output_type": "stream",
          "name": "stdout",
          "text": [
            "Sentence: Survey on Semantic Stereo Matching / Semantic Depth Estimation\n",
            "Embedding length: 384\n",
            "\n",
            "Sentence: FUTURE-AI: Guiding Principles and Consensus Recommendations for Trustworthy Artificial Intelligence in Future Medical Imaging\n",
            "Embedding length: 384\n",
            "\n",
            "Sentence: Enforcing Mutual Consistency of Hard Regions for Semi-supervised Medical Image Segmentation\n",
            "Embedding length: 384\n",
            "\n",
            "Sentence: Parameter Decoupling Strategy for Semi-supervised 3D Left Atrium Segmentation\n",
            "Embedding length: 384\n",
            "\n",
            "Sentence: Background-Foreground Segmentation for Interior Sensing in Automotive Industry\n",
            "Embedding length: 384\n",
            "\n",
            "Sentence: EdgeFlow: Achieving Practical Interactive Segmentation with Edge-Guided Flow\n",
            "Embedding length: 384\n",
            "\n"
          ]
        }
      ]
    },
    {
      "cell_type": "code",
      "source": [
        "import pickle\n",
        "# Saving sentences and corresponding embeddings\n",
        "with open('models/embeddings.pkl', 'wb') as f:\n",
        "    pickle.dump(embeddings, f)\n",
        "\n",
        "with open('models/sentences.pkl', 'wb') as f:\n",
        "    pickle.dump(sentences, f)\n",
        "\n",
        "with open('models/rec_model.pkl', 'wb') as f:\n",
        "    pickle.dump(model, f)"
      ],
      "metadata": {
        "id": "1Is8aUusYNdh"
      },
      "execution_count": null,
      "outputs": []
    },
    {
      "cell_type": "code",
      "source": [
        "# load save files\n",
        "embeddings = pickle.load(open('models/embeddings.pkl','rb'))\n",
        "sentences = pickle.load(open('models/sentences.pkl','rb'))\n",
        "rec_model = pickle.load(open('models/rec_model.pkl','rb'))"
      ],
      "metadata": {
        "id": "hnRSoEU5YNfj"
      },
      "execution_count": null,
      "outputs": []
    },
    {
      "cell_type": "code",
      "source": [
        "import torch\n",
        "\n",
        "def recommendation(input_paper):\n",
        "    # Calculate cosine similarity scores between the embeddings of input_paper and all papers in the dataset.\n",
        "    cosine_scores = util.cos_sim(embeddings, rec_model.encode(input_paper))\n",
        "\n",
        "    # Get the indices of the top-k most similar papers based on cosine similarity.\n",
        "    top_similar_papers = torch.topk(cosine_scores, dim=0, k=5, sorted=True)\n",
        "\n",
        "    # Retrieve the titles of the top similar papers.\n",
        "    papers_list = []\n",
        "    for i in top_similar_papers.indices:\n",
        "        papers_list.append(sentences[i.item()])\n",
        "\n",
        "    return papers_list\n"
      ],
      "metadata": {
        "id": "NYp1Im9-YNhO"
      },
      "execution_count": null,
      "outputs": []
    },
    {
      "cell_type": "code",
      "source": [
        "# exampel usage 1: (use this paper as input (Attention is All you Need))\n",
        "input_paper = input(\"Enter the title of any paper you like\")\n",
        "recommend_papers = recommendation(input_paper)\n",
        "\n",
        "\n",
        "print(\"We recommend to read this paper............\")\n",
        "print(\"=============================================\")\n",
        "for paper in recommend_papers:\n",
        "    print(paper)"
      ],
      "metadata": {
        "colab": {
          "base_uri": "https://localhost:8080/"
        },
        "id": "MGN9d3eYYNjA",
        "outputId": "df9bfda8-9d33-4e66-a083-f42677763f7b"
      },
      "execution_count": null,
      "outputs": [
        {
          "output_type": "stream",
          "name": "stdout",
          "text": [
            "Enter the title of any paper you likemachine \n",
            "We recommend to read this paper............\n",
            "=============================================\n",
            "Machine Truth Serum\n",
            "Reservoir memory machines\n",
            "Learning to Switch Between Machines and Humans\n",
            "Support Spinor Machine\n",
            "Generative Neurosymbolic Machines\n"
          ]
        }
      ]
    },
    {
      "cell_type": "code",
      "source": [
        "# exampel usage 2: (use this paper as input (BERT: Pre-training of Deep Bidirectional Transformers for Language Understanding))\n",
        "input_paper = input(\"Enter the title of any paper you like\")\n",
        "recommend_papers = recommendation(input_paper)\n",
        "\n",
        "\n",
        "print(\"We recommend to read this paper............\")\n",
        "print(\"=============================================\")\n",
        "for paper in recommend_papers:\n",
        "    print(paper)"
      ],
      "metadata": {
        "colab": {
          "base_uri": "https://localhost:8080/"
        },
        "id": "ge9kN_KBYNlH",
        "outputId": "1354eb87-e07c-49f9-c99e-0bd8e9d5027f"
      },
      "execution_count": null,
      "outputs": [
        {
          "output_type": "stream",
          "name": "stdout",
          "text": [
            "Enter the title of any paper you likedeep\n",
            "We recommend to read this paper............\n",
            "=============================================\n",
            "Deep Sets\n",
            "Deep Forest\n",
            "Deep Neural Maps\n",
            "Playing for Depth\n",
            "On Attribution of Deepfakes\n"
          ]
        }
      ]
    },
    {
      "cell_type": "code",
      "source": [
        "# exampel usage 3: (use this paper as input (Review of deep learning: concepts, CNN architectures, challenges, applications, future directions))\n",
        "input_paper = input(\"Enter the title of any paper you like\")\n",
        "recommend_papers = recommendation(input_paper)\n",
        "\n",
        "\n",
        "print(\"We recommend to read this paper............\")\n",
        "print(\"=============================================\")\n",
        "for paper in recommend_papers:\n",
        "    print(paper)"
      ],
      "metadata": {
        "colab": {
          "base_uri": "https://localhost:8080/"
        },
        "id": "mEqcI2JdYNmt",
        "outputId": "a1a15b58-4fa4-4179-9358-0612a6099b65"
      },
      "execution_count": null,
      "outputs": [
        {
          "output_type": "stream",
          "name": "stdout",
          "text": [
            "Enter the title of any paper you likehospital\n",
            "We recommend to read this paper............\n",
            "=============================================\n",
            "CPAS: the UK's National Machine Learning-based Hospital Capacity Planning System for COVID-19\n",
            "Student-Teacher Curriculum Learning via Reinforcement Learning: Predicting Hospital Inpatient Admission Location\n",
            "Ward2ICU: A Vital Signs Dataset of Inpatients from the General Ward\n",
            "An early prediction of covid-19 associated hospitalization surge using deep learning approach\n",
            "Forecasting COVID-19 Counts At A Single Hospital: A Hierarchical Bayesian Approach\n"
          ]
        }
      ]
    },
    {
      "cell_type": "code",
      "source": [
        "arxiv_data.duplicated().sum()"
      ],
      "metadata": {
        "colab": {
          "base_uri": "https://localhost:8080/"
        },
        "id": "DDqrLybYYNoj",
        "outputId": "52a246ac-989e-427b-91ae-966280447c6b"
      },
      "execution_count": null,
      "outputs": [
        {
          "output_type": "execute_result",
          "data": {
            "text/plain": [
              "0"
            ]
          },
          "metadata": {},
          "execution_count": 23
        }
      ]
    },
    {
      "cell_type": "code",
      "source": [
        "arxiv_data = pd.read_csv(\"arxiv_data.csv\")"
      ],
      "metadata": {
        "id": "RYdohr2baTb-"
      },
      "execution_count": null,
      "outputs": []
    },
    {
      "cell_type": "code",
      "source": [
        "# remove duplicate entries based on the \"titles\" (terms) column\n",
        "# This filters the DataFrame, keeping only the rows where the titles are not duplicated.\n",
        "arxiv_data = arxiv_data[~arxiv_data['titles'].duplicated()]\n",
        "print(f\"There are {len(arxiv_data)} rows in the deduplicated dataset.\")\n",
        "# There are some terms with occurrence as low as 1.\n",
        "print(sum(arxiv_data['terms'].value_counts()==1))\n",
        "# how many unique terms\n",
        "print(arxiv_data['terms'].nunique())"
      ],
      "metadata": {
        "colab": {
          "base_uri": "https://localhost:8080/"
        },
        "id": "iO9j5HR6YNsR",
        "outputId": "9b7b6668-b74e-4208-b9a1-ea5a04f343c0"
      },
      "execution_count": null,
      "outputs": [
        {
          "output_type": "stream",
          "name": "stdout",
          "text": [
            "There are 38972 rows in the deduplicated dataset.\n",
            "2321\n",
            "3157\n"
          ]
        }
      ]
    },
    {
      "cell_type": "code",
      "source": [
        "# getting unique labels\n",
        "labels_column = arxiv_data['terms'].apply(literal_eval)\n",
        "labels = labels_column.explode().unique()\n",
        "print(\"labels :\",labels)\n",
        "print(\"lenght :\",len(labels))"
      ],
      "metadata": {
        "id": "mS2Q7j8cYNqi",
        "colab": {
          "base_uri": "https://localhost:8080/"
        },
        "outputId": "414ba14a-91f5-41d0-d47b-aeec9acad900"
      },
      "execution_count": null,
      "outputs": [
        {
          "output_type": "stream",
          "name": "stdout",
          "text": [
            "labels : ['cs.CV' 'cs.LG' 'cs.AI' ... 'I.2.6; I.5.1; G.3'\n",
            " '92E10, 46M20, 94A08, 68U10, 44A12, 55R35' '92E10']\n",
            "lenght : 1099\n"
          ]
        }
      ]
    },
    {
      "cell_type": "code",
      "source": [
        "arxiv_data_filtered = arxiv_data.groupby('terms').filter(lambda x: len(x) > 1)\n",
        "arxiv_data_filtered.shape"
      ],
      "metadata": {
        "colab": {
          "base_uri": "https://localhost:8080/"
        },
        "id": "wJsU0gGrYNuW",
        "outputId": "26b8f1ef-78af-4785-be7f-2a8a25d19ae9"
      },
      "execution_count": null,
      "outputs": [
        {
          "output_type": "execute_result",
          "data": {
            "text/plain": [
              "(36651, 3)"
            ]
          },
          "metadata": {},
          "execution_count": 27
        }
      ]
    },
    {
      "cell_type": "code",
      "source": [
        "arxiv_data_filtered['terms'] = arxiv_data_filtered['terms'].apply(lambda x: literal_eval(x))\n",
        "arxiv_data_filtered['terms'].values[:3]"
      ],
      "metadata": {
        "colab": {
          "base_uri": "https://localhost:8080/"
        },
        "id": "ZsnNyv0Laago",
        "outputId": "5ac01651-85de-4b5c-cde2-1124d17c41f6"
      },
      "execution_count": null,
      "outputs": [
        {
          "output_type": "execute_result",
          "data": {
            "text/plain": [
              "array([list(['cs.CV', 'cs.LG']), list(['cs.CV', 'cs.AI', 'cs.LG']),\n",
              "       list(['cs.CV', 'cs.AI'])], dtype=object)"
            ]
          },
          "metadata": {},
          "execution_count": 28
        }
      ]
    },
    {
      "cell_type": "code",
      "source": [
        "test_split = 0.1\n",
        "\n",
        "# Initial train and test split.\n",
        "# The stratify parameter ensures that the splitting is done in a way that preserves the same distribution of labels (terms) in both the training and test sets.\n",
        "train_df, test_df = train_test_split(arxiv_data_filtered,test_size=test_split,stratify=arxiv_data_filtered[\"terms\"].values,)\n",
        "\n",
        "# Splitting the test set further into validation\n",
        "# and new test sets.\n",
        "val_df = test_df.sample(frac=0.5)\n",
        "test_df.drop(val_df.index, inplace=True)\n",
        "\n",
        "print(f\"Number of rows in training set: {len(train_df)}\")\n",
        "print(f\"Number of rows in validation set: {len(val_df)}\")\n",
        "print(f\"Number of rows in test set: {len(test_df)}\")"
      ],
      "metadata": {
        "colab": {
          "base_uri": "https://localhost:8080/"
        },
        "id": "4245WQRFaaib",
        "outputId": "bf802672-33ae-47d4-a6f5-4d2ccc392fae"
      },
      "execution_count": null,
      "outputs": [
        {
          "output_type": "stream",
          "name": "stdout",
          "text": [
            "Number of rows in training set: 32985\n",
            "Number of rows in validation set: 1833\n",
            "Number of rows in test set: 1833\n"
          ]
        }
      ]
    },
    {
      "cell_type": "code",
      "source": [
        "# creates a TensorFlow RaggedTensor (terms) from the values in the \"terms\" column of the train_df DataFrame. A RaggedTensor is a tensor with non-uniform shapes\n",
        "terms = tf.ragged.constant(train_df['terms'].values)\n",
        "# This line creates a StringLookup layer in TensorFlow. The purpose of this layer is to map strings to integer indices and vice versa. The output_mode=\"multi_hot\" indicates that the layer will output a multi-hot encoded representation of the input strings.\n",
        "lookup = tf.keras.layers.StringLookup(output_mode='multi_hot')\n",
        "# This step adapts the StringLookup layer to the unique values in the \"terms\" column, building the vocabulary.\n",
        "lookup.adapt(terms)\n",
        "# retrieve vocabulary\n",
        "vocab = lookup.get_vocabulary()\n",
        "\n",
        "print(\"Vocabulary:\\n\")\n",
        "print(vocab)"
      ],
      "metadata": {
        "colab": {
          "base_uri": "https://localhost:8080/"
        },
        "id": "TIqeqIl6aakJ",
        "outputId": "bc9ddc53-9cf5-4198-96b9-d529f1d0d7f9"
      },
      "execution_count": null,
      "outputs": [
        {
          "output_type": "stream",
          "name": "stdout",
          "text": [
            "Vocabulary:\n",
            "\n",
            "['[UNK]', 'cs.CV', 'cs.LG', 'stat.ML', 'cs.AI', 'eess.IV', 'cs.RO', 'cs.CL', 'cs.NE', 'cs.CR', 'math.OC', 'eess.SP', 'cs.GR', 'cs.SI', 'cs.MM', 'cs.SY', 'cs.IR', 'cs.MA', 'eess.SY', 'cs.HC', 'cs.DC', 'math.IT', 'cs.IT', 'cs.CY', 'stat.AP', 'stat.TH', 'math.ST', 'stat.ME', 'eess.AS', 'cs.SD', 'q-bio.QM', 'q-bio.NC', 'cs.DS', 'cs.GT', 'cs.CG', 'cs.NI', 'cs.SE', 'I.2.6', 'stat.CO', 'math.NA', 'cs.NA', 'physics.chem-ph', 'cs.DB', 'q-bio.BM', 'cs.LO', 'cond-mat.dis-nn', '68T45', 'math.PR', 'cs.PL', 'physics.comp-ph', 'I.2.10', 'cs.CE', 'cs.AR', 'q-fin.ST', 'cond-mat.stat-mech', 'math.DS', '68T05', 'quant-ph', 'physics.data-an', 'cs.CC', 'I.4.6', 'physics.soc-ph', 'physics.ao-ph', 'cs.DM', 'econ.EM', 'q-bio.GN', 'physics.med-ph', 'cs.PF', 'astro-ph.IM', 'I.4.8', 'math.AT', 'I.4', 'q-fin.TR', 'cs.FL', 'I.5.4', 'I.2', '68U10', 'hep-ex', '68T10', 'physics.optics', 'physics.geo-ph', 'cond-mat.mtrl-sci', 'q-fin.CP', 'physics.flu-dyn', 'math.CO', 'math.AP', 'I.4; I.5', 'I.4.9', 'I.2.6; I.2.8', 'I.2.10; I.4; I.5', '68T01', '65D19', 'nlin.CD', 'cs.MS', 'I.2.6; I.5.1', 'I.2.0; I.2.6', '68T07', 'cs.SC', 'cs.ET', 'K.3.2', 'I.2; I.5', 'I.2.8', 'I.2.10; I.4.8', '68U01', '68T30', 'q-fin.GN', 'q-fin.EC', 'q-bio.MN', 'econ.GN', 'I.4.9; I.5.4', 'I.4.5', 'I.2; I.4; I.5', 'I.2.6; I.2.7', '68T99', '68Q32', '68', '62H30', 'q-fin.RM', 'q-fin.PM', 'q-bio.TO', 'q-bio.OT', 'physics.bio-ph', 'nlin.AO', 'math.LO', 'math.FA', 'hep-ph', 'cond-mat.soft', 'I.4.6; I.4.8', 'I.4.4', 'I.4.3', 'I.4.0', 'I.2; J.2', 'I.2; I.2.6; I.2.7', 'I.2.7', 'I.2.6; I.5.4', 'I.2.6; I.2.9', 'I.2.6; I.2.7; H.3.1; H.3.3', 'I.2.6; I.2.10', 'I.2.6, I.5.4', 'I.2.1; J.3', 'I.2.10; I.5.1; I.4.8', 'I.2.10; I.4.8; I.5.4', 'I.2.10; I.2.6', 'I.2.1', 'H.3.1; I.2.6; I.2.7', 'H.3.1; H.3.3; I.2.6; I.2.7', 'G.3', 'F.2.2; I.2.7', 'E.5; E.4; E.2; H.1.1; F.1.1; F.1.3', '68Txx', '62H99', '62H35', '14J60 (Primary) 14F05, 14J26 (Secondary)']\n"
          ]
        }
      ]
    },
    {
      "cell_type": "code",
      "source": [
        "sample_label = train_df[\"terms\"].iloc[0]\n",
        "print(f\"Original label: {sample_label}\")\n",
        "\n",
        "label_binarized = lookup([sample_label])\n",
        "print(f\"Label-binarized representation: {label_binarized}\")"
      ],
      "metadata": {
        "colab": {
          "base_uri": "https://localhost:8080/"
        },
        "id": "ZD_smPikaamD",
        "outputId": "48b9953f-f295-4758-bf25-f627261fecb3"
      },
      "execution_count": null,
      "outputs": [
        {
          "output_type": "stream",
          "name": "stdout",
          "text": [
            "Original label: ['cs.CV']\n",
            "Label-binarized representation: [[0 1 0 0 0 0 0 0 0 0 0 0 0 0 0 0 0 0 0 0 0 0 0 0 0 0 0 0 0 0 0 0 0 0 0 0\n",
            "  0 0 0 0 0 0 0 0 0 0 0 0 0 0 0 0 0 0 0 0 0 0 0 0 0 0 0 0 0 0 0 0 0 0 0 0\n",
            "  0 0 0 0 0 0 0 0 0 0 0 0 0 0 0 0 0 0 0 0 0 0 0 0 0 0 0 0 0 0 0 0 0 0 0 0\n",
            "  0 0 0 0 0 0 0 0 0 0 0 0 0 0 0 0 0 0 0 0 0 0 0 0 0 0 0 0 0 0 0 0 0 0 0 0\n",
            "  0 0 0 0 0 0 0 0 0]]\n"
          ]
        }
      ]
    },
    {
      "cell_type": "code",
      "source": [
        "#max_seqlen: Maximum sequence length. It indicates the maximum length allowed for sequences.\n",
        "max_seqlen = 150\n",
        "#batch_size: Batch size. It specifies the number of samples to use in each iteration.\n",
        "batch_size = 20\n",
        "#padding_token: A token used for padding sequences.\n",
        "padding_token = \"<pad>\"\n",
        "#auto = tf.data.AUTOTUNE: auto is assigned the value tf.data.AUTOTUNE,\n",
        "auto = tf.data.AUTOTUNE\n",
        "\n",
        "def make_dataset(dataframe, is_train=True):\n",
        "    # creating sequences of labesls\n",
        "    labels = tf.ragged.constant(dataframe[\"terms\"].values)\n",
        "    #This line uses the previously defined lookup layer to convert the ragged tensor of labels into a binarized representation. The resulting label_binarized is a NumPy array.\n",
        "    label_binarized = lookup(labels).numpy()\n",
        "    # creating sequences of text.\n",
        "    dataset = tf.data.Dataset.from_tensor_slices((dataframe[\"summaries\"].values, label_binarized))\n",
        "    # shuffling data basis on condition\n",
        "    dataset = dataset.shuffle(batch_size * 10) if is_train else dataset\n",
        "    return dataset.batch(batch_size)"
      ],
      "metadata": {
        "id": "g8FcCI7gaany"
      },
      "execution_count": null,
      "outputs": []
    },
    {
      "cell_type": "code",
      "source": [
        "train_dataset = make_dataset(train_df, is_train=True)\n",
        "validation_dataset = make_dataset(val_df, is_train=False)\n",
        "test_dataset = make_dataset(test_df, is_train=False)"
      ],
      "metadata": {
        "id": "igz5Il7jaapq"
      },
      "execution_count": null,
      "outputs": []
    },
    {
      "cell_type": "code",
      "source": [
        "def invert_multi_hot(encoded_labels):\n",
        "    \"\"\"Reverse a single multi-hot encoded label to a tuple of vocab terms.\"\"\"\n",
        "    hot_indices = np.argwhere(encoded_labels == 1.0)[..., 0]\n",
        "    return np.take(vocab, hot_indices)"
      ],
      "metadata": {
        "id": "w_pFd8tjaarT"
      },
      "execution_count": null,
      "outputs": []
    },
    {
      "cell_type": "code",
      "source": [
        "def predict_category(abstract, model, vectorizer, label_lookup):\n",
        "    # Preprocess the abstract using the loaded text vectorizer\n",
        "    preprocessed_abstract = vectorizer([abstract])\n",
        "\n",
        "    # Make predictions using the loaded model\n",
        "    predictions = model.predict(preprocessed_abstract)\n",
        "\n",
        "    # Convert predictions to human-readable labels\n",
        "    predicted_labels = label_lookup(np.round(predictions).astype(int)[0])\n",
        "\n",
        "    return predicted_labels"
      ],
      "metadata": {
        "id": "f9IN0XiZaatL"
      },
      "execution_count": null,
      "outputs": []
    },
    {
      "cell_type": "code",
      "source": [
        "text_batch, label_batch = next(iter(train_dataset))\n",
        "for i, text in enumerate(text_batch[:5]):\n",
        "    label = label_batch[i].numpy()[None, ...]\n",
        "    print(f\"Abstract: {text}\")\n",
        "    print(f\"Label(s): {invert_multi_hot(label[0])}\")\n",
        "    print(\" \")"
      ],
      "metadata": {
        "colab": {
          "base_uri": "https://localhost:8080/"
        },
        "id": "ofWJEZoEaau-",
        "outputId": "20531556-88dd-4941-cb95-1cee87a43459"
      },
      "execution_count": null,
      "outputs": [
        {
          "output_type": "stream",
          "name": "stdout",
          "text": [
            "Abstract: b'Recent approaches for modelling dynamics of physical systems with neural\\nnetworks enforce Lagrangian or Hamiltonian structure to improve prediction and\\ngeneralization. However, when coordinates are embedded in high-dimensional data\\nsuch as images, these approaches either lose interpretability or can only be\\napplied to one particular example. We introduce a new unsupervised neural\\nnetwork model that learns Lagrangian dynamics from images, with\\ninterpretability that benefits prediction and control. The model infers\\nLagrangian dynamics on generalized coordinates that are simultaneously learned\\nwith a coordinate-aware variational autoencoder (VAE). The VAE is designed to\\naccount for the geometry of physical systems composed of multiple rigid bodies\\nin the plane. By inferring interpretable Lagrangian dynamics, the model learns\\nphysical system properties, such as kinetic and potential energy, which enables\\nlong-term prediction of dynamics in the image space and synthesis of\\nenergy-based controllers.'\n",
            "Label(s): ['cs.LG' 'stat.ML' 'cs.SY' 'eess.SY']\n",
            " \n",
            "Abstract: b'Transformer models have achieved state-of-the-art results across a diverse\\nrange of domains. However, concern over the cost of training the attention\\nmechanism to learn complex dependencies between distant inputs continues to\\ngrow. In response, solutions that exploit the structure and sparsity of the\\nlearned attention matrix have blossomed. However, real-world applications that\\ninvolve long sequences, such as biological sequence analysis, may fall short of\\nmeeting these assumptions, precluding exploration of these models. To address\\nthis challenge, we present a new Transformer architecture, Performer, based on\\nFast Attention Via Orthogonal Random features (FAVOR). Our mechanism scales\\nlinearly rather than quadratically in the number of tokens in the sequence, is\\ncharacterized by sub-quadratic space complexity and does not incorporate any\\nsparsity pattern priors. Furthermore, it provides strong theoretical\\nguarantees: unbiased estimation of the attention matrix and uniform\\nconvergence. It is also backwards-compatible with pre-trained regular\\nTransformers. We demonstrate its effectiveness on the challenging task of\\nprotein sequence modeling and provide detailed theoretical analysis.'\n",
            "Label(s): ['cs.LG' 'stat.ML' 'cs.CL']\n",
            " \n",
            "Abstract: b'This paper presents a novel hierarchical Bayesian model for unbiased atlas\\nbuilding with subject-specific regularizations of image registration. We\\ndevelop an atlas construction process that automatically selects parameters to\\ncontrol the smoothness of diffeomorphic transformation according to individual\\nimage data. To achieve this, we introduce a hierarchical prior distribution on\\nregularization parameters that allows multiple penalties on images with various\\ndegrees of geometric transformations. We then treat the regularization\\nparameters as latent variables and integrate them out from the model by using\\nthe Monte Carlo Expectation Maximization (MCEM) algorithm. Another advantage of\\nour algorithm is that it eliminates the need for manual parameter tuning, which\\ncan be tedious and infeasible. We demonstrate the effectiveness of our model on\\n3D brain MR images. Experimental results show that our model provides a sharper\\natlas compared to the current atlas building algorithms with single-penalty\\nregularizations. Our code is publicly available at\\nhttps://github.com/jw4hv/HierarchicalBayesianAtlasBuild.'\n",
            "Label(s): ['cs.CV' 'eess.IV' 'I.2.10; I.4; I.5']\n",
            " \n",
            "Abstract: b'We present Neural A*, a novel data-driven search method for path planning\\nproblems. Despite the recent increasing attention to data-driven path planning,\\nmachine learning approaches to search-based planning are still challenging due\\nto the discrete nature of search algorithms. In this work, we reformulate a\\ncanonical A* search algorithm to be differentiable and couple it with a\\nconvolutional encoder to form an end-to-end trainable neural network planner.\\nNeural A* solves a path planning problem by encoding a problem instance to a\\nguidance map and then performing the differentiable A* search with the guidance\\nmap. By learning to match the search results with ground-truth paths provided\\nby experts, Neural A* can produce a path consistent with the ground truth\\naccurately and efficiently. Our extensive experiments confirmed that Neural A*\\noutperformed state-of-the-art data-driven planners in terms of the search\\noptimality and efficiency trade-off. Furthermore, Neural A* successfully\\npredicted realistic human trajectories by directly performing search-based\\nplanning on natural image inputs. Project page:\\nhttps://omron-sinicx.github.io/neural-astar/'\n",
            "Label(s): ['cs.LG' 'stat.ML' 'cs.AI']\n",
            " \n",
            "Abstract: b'Detecting the relations among objects, such as \"cat on sofa\" and \"person ride\\nhorse\", is a crucial task in image understanding, and beneficial to bridging\\nthe semantic gap between images and natural language. Despite the remarkable\\nprogress of deep learning in detection and recognition of individual objects,\\nit is still a challenging task to localize and recognize the relations between\\nobjects due to the complex combinatorial nature of various kinds of object\\nrelations. Inspired by the recent advances in one-shot learning, we propose a\\nsimple yet effective Semantics Induced Learner (SIL) model for solving this\\nchallenging task. Learning in one-shot manner can enable a detection model to\\nadapt to a huge number of object relations with diverse appearance effectively\\nand robustly. In addition, the SIL combines bottom-up and top-down attention\\nmech- anisms, therefore enabling attention at the level of vision and semantics\\nfavorably. Within our proposed model, the bottom-up mechanism, which is based\\non Faster R-CNN, proposes objects regions, and the top-down mechanism selects\\nand integrates visual features according to semantic information. Experiments\\ndemonstrate the effectiveness of our framework over other state-of-the-art\\nmethods on two large-scale data sets for object relation detection.'\n",
            "Label(s): ['cs.CV']\n",
            " \n"
          ]
        }
      ]
    },
    {
      "cell_type": "code",
      "source": [
        "vocabulary = set()\n",
        "train_df[\"summaries\"].str.lower().str.split().apply(vocabulary.update)\n",
        "vocabulary_size = len(vocabulary)\n",
        "print(vocabulary_size)"
      ],
      "metadata": {
        "colab": {
          "base_uri": "https://localhost:8080/"
        },
        "id": "TFfiMJTDaaxB",
        "outputId": "dce44864-7303-4a4a-dd6f-ab3331383f55"
      },
      "execution_count": null,
      "outputs": [
        {
          "output_type": "stream",
          "name": "stdout",
          "text": [
            "153754\n"
          ]
        }
      ]
    },
    {
      "cell_type": "code",
      "source": [
        "text_vectorizer = layers.TextVectorization(max_tokens=20000,ngrams=2,output_mode=\"tf_idf\")\n",
        "# `TextVectorization` layer needs to be adapted as per the vocabulary from our\n",
        "# training set.\n",
        "text_vectorizer.adapt(train_dataset.map(lambda text, label: text))"
      ],
      "metadata": {
        "id": "7TaH6NKQa8GH"
      },
      "execution_count": null,
      "outputs": []
    },
    {
      "cell_type": "code",
      "source": [
        "train_dataset = train_dataset.map(lambda text, label: (text_vectorizer(text), label)).prefetch(auto)\n",
        "validation_dataset = validation_dataset.map(lambda text, label: (text_vectorizer(text), label)).prefetch(auto)\n",
        "test_dataset = test_dataset.map(lambda text, label: (text_vectorizer(text), label),).prefetch(auto)"
      ],
      "metadata": {
        "id": "vmxGOmsfa8IA"
      },
      "execution_count": null,
      "outputs": []
    },
    {
      "cell_type": "code",
      "source": [
        "import tensorflow as tf\n",
        "from tensorflow import keras\n",
        "from tensorflow.keras import layers\n",
        "from tensorflow.keras.layers import StringLookup"
      ],
      "metadata": {
        "id": "0tEf34rLbb5s"
      },
      "execution_count": null,
      "outputs": []
    },
    {
      "cell_type": "code",
      "source": [
        "# creating shallow_mlp_model  (MLP)\n",
        "from tensorflow.keras.callbacks import EarlyStopping\n",
        "\n",
        "# Creating shallow_mlp_model (MLP) with dropout layers\n",
        "model1 = keras.Sequential([\n",
        "    # First hidden layer: 512 neurons, ReLU activation function, with dropout.\n",
        "    layers.Dense(64, activation=\"relu\"),\n",
        "    layers.Dropout(0.3),  # Adding dropout for regularization.\n",
        "\n",
        "\n",
        "    # Output layer: The number of neurons equals the vocabulary size (output vocabulary of the StringLookup layer), with a sigmoid activation function.\n",
        "    layers.Dense(lookup.vocabulary_size(), activation='sigmoid')\n",
        "])\n",
        "\n",
        "# Compile the model\n",
        "model1.compile(loss=\"binary_crossentropy\", optimizer='adam', metrics=['binary_accuracy'])\n",
        "\n",
        "# Add early stopping\n",
        "# Number of epochs with no improvement after which training will be stopped.\n",
        "# Restore weights from the epoch with the best value of the monitored quantity.\n",
        "early_stopping = EarlyStopping(patience=5,restore_best_weights=True)\n",
        "\n",
        "# Train the model\n",
        "# Add early stopping callback.verbose=1\n",
        "history = model1.fit(train_dataset,validation_data=validation_dataset,epochs=6,callbacks=[early_stopping])"
      ],
      "metadata": {
        "colab": {
          "base_uri": "https://localhost:8080/"
        },
        "id": "klwa1faua8Jy",
        "outputId": "27ee29b4-10c0-4d25-d0f0-642fe773411b"
      },
      "execution_count": null,
      "outputs": [
        {
          "output_type": "stream",
          "name": "stdout",
          "text": [
            "Epoch 1/6\n",
            "\u001b[1m1650/1650\u001b[0m \u001b[32m━━━━━━━━━━━━━━━━━━━━\u001b[0m\u001b[37m\u001b[0m \u001b[1m851s\u001b[0m 515ms/step - binary_accuracy: 0.9560 - loss: 0.1082 - val_binary_accuracy: 0.9942 - val_loss: 0.0204\n",
            "Epoch 2/6\n",
            "\u001b[1m1650/1650\u001b[0m \u001b[32m━━━━━━━━━━━━━━━━━━━━\u001b[0m\u001b[37m\u001b[0m \u001b[1m858s\u001b[0m 520ms/step - binary_accuracy: 0.9938 - loss: 0.0226 - val_binary_accuracy: 0.9942 - val_loss: 0.0196\n",
            "Epoch 3/6\n",
            "\u001b[1m1650/1650\u001b[0m \u001b[32m━━━━━━━━━━━━━━━━━━━━\u001b[0m\u001b[37m\u001b[0m \u001b[1m866s\u001b[0m 525ms/step - binary_accuracy: 0.9941 - loss: 0.0202 - val_binary_accuracy: 0.9943 - val_loss: 0.0193\n",
            "Epoch 4/6\n",
            "\u001b[1m1650/1650\u001b[0m \u001b[32m━━━━━━━━━━━━━━━━━━━━\u001b[0m\u001b[37m\u001b[0m \u001b[1m908s\u001b[0m 516ms/step - binary_accuracy: 0.9944 - loss: 0.0187 - val_binary_accuracy: 0.9942 - val_loss: 0.0193\n",
            "Epoch 5/6\n",
            "\u001b[1m1650/1650\u001b[0m \u001b[32m━━━━━━━━━━━━━━━━━━━━\u001b[0m\u001b[37m\u001b[0m \u001b[1m864s\u001b[0m 524ms/step - binary_accuracy: 0.9946 - loss: 0.0175 - val_binary_accuracy: 0.9942 - val_loss: 0.0194\n",
            "Epoch 6/6\n",
            "\u001b[1m1650/1650\u001b[0m \u001b[32m━━━━━━━━━━━━━━━━━━━━\u001b[0m\u001b[37m\u001b[0m \u001b[1m865s\u001b[0m 524ms/step - binary_accuracy: 0.9948 - loss: 0.0162 - val_binary_accuracy: 0.9942 - val_loss: 0.0205\n"
          ]
        }
      ]
    },
    {
      "cell_type": "code",
      "source": [
        "def plot_result(item):\n",
        "    plt.plot(history.history[item], label=item)\n",
        "    plt.plot(history.history[\"val_\" + item], label=\"val_\" + item)\n",
        "    plt.xlabel(\"Epochs\")\n",
        "    plt.ylabel(item)\n",
        "    plt.title(\"Train and Validation {} Over Epochs\".format(item), fontsize=14)\n",
        "    plt.legend()\n",
        "    plt.grid()\n",
        "    plt.show()\n",
        "\n",
        "\n",
        "plot_result(\"loss\")\n",
        "plot_result(\"binary_accuracy\")"
      ],
      "metadata": {
        "colab": {
          "base_uri": "https://localhost:8080/",
          "height": 929
        },
        "id": "OsNZf3iDa8Lf",
        "outputId": "d214cf01-9f81-4570-abb7-6dd2a63e973d"
      },
      "execution_count": null,
      "outputs": [
        {
          "output_type": "display_data",
          "data": {
            "text/plain": [
              "<Figure size 640x480 with 1 Axes>"
            ],
            "image/png": "[encoded data removed]"
          },
          "metadata": {}
        },
        {
          "output_type": "display_data",
          "data": {
            "text/plain": [
              "<Figure size 640x480 with 1 Axes>"
            ],
            "image/png": "[encoded data removed]"
          },
          "metadata": {}
        }
      ]
    },
    {
      "cell_type": "code",
      "source": [
        "# model evaltuation on test and val dataset\n",
        "_, binary_acc1 = model1.evaluate(test_dataset)\n",
        "_, binary_acc2 = model1.evaluate(validation_dataset)\n",
        "\n",
        "print(f\"Categorical accuracy on the test set: {round(binary_acc1 * 100, 2)}%.\")\n",
        "print(f\"Categorical accuracy on the validation set: {round(binary_acc2 * 100, 2)}%.\")"
      ],
      "metadata": {
        "colab": {
          "base_uri": "https://localhost:8080/"
        },
        "id": "BdE7zKKYa8Na",
        "outputId": "2da09e6c-99cf-4ecb-ea5f-e4ee53149f7f"
      },
      "execution_count": null,
      "outputs": [
        {
          "output_type": "stream",
          "name": "stdout",
          "text": [
            "\u001b[1m92/92\u001b[0m \u001b[32m━━━━━━━━━━━━━━━━━━━━\u001b[0m\u001b[37m\u001b[0m \u001b[1m45s\u001b[0m 483ms/step - binary_accuracy: 0.9942 - loss: 0.0198\n",
            "\u001b[1m92/92\u001b[0m \u001b[32m━━━━━━━━━━━━━━━━━━━━\u001b[0m\u001b[37m\u001b[0m \u001b[1m45s\u001b[0m 486ms/step - binary_accuracy: 0.9943 - loss: 0.0186\n",
            "Categorical accuracy on the test set: 99.39%.\n",
            "Categorical accuracy on the validation set: 99.42%.\n"
          ]
        }
      ]
    },
    {
      "cell_type": "code",
      "source": [
        "# Save the model\n",
        "model1.save(\"models/model.h5\")\n",
        "\n",
        "# Save the configuration of the text vectorizer\n",
        "saved_text_vectorizer_config = text_vectorizer.get_config()\n",
        "with open(\"models/text_vectorizer_config.pkl\", \"wb\") as f:\n",
        "    pickle.dump(saved_text_vectorizer_config, f)\n",
        "\n",
        "\n",
        "# Save the vocabulary\n",
        "with open(\"models/vocab.pkl\", \"wb\") as f:\n",
        "    pickle.dump(vocab, f)"
      ],
      "metadata": {
        "colab": {
          "base_uri": "https://localhost:8080/"
        },
        "id": "4TSXSB4La8PL",
        "outputId": "39f49840-26c8-44c8-c3e3-15c2ce95cf54"
      },
      "execution_count": null,
      "outputs": [
        {
          "output_type": "stream",
          "name": "stderr",
          "text": [
            "WARNING:absl:You are saving your model as an HDF5 file via `model.save()` or `keras.saving.save_model(model)`. This file format is considered legacy. We recommend using instead the native Keras format, e.g. `model.save('my_model.keras')` or `keras.saving.save_model(model, 'my_model.keras')`. \n"
          ]
        }
      ]
    },
    {
      "cell_type": "code",
      "source": [
        "# Prepare your input text\n",
        "input_text = [\"Graph neural networks (GNNs) have been widely used to learn vector\\nrepresentation of graph-structured data and achieved better task performance\\nthan conventional methods. The foundation of GNNs is the message passing\\nprocedure, which propagates the information in a node to its neighbors. Since\\nthis procedure proceeds one step per layer, the range of the information\\npropagation among nodes is small in the lower layers, and it expands toward the\\nhigher layers. Therefore, a GNN model has to be deep enough to capture global\\nstructural information in a graph. On the other hand, it is known that deep GNN\\nmodels suffer from performance degradation because they lose nodes' local\\ninformation, which would be essential for good model performance, through many\\nmessage passing steps. In this study, we propose multi-level attention pooling\\n(MLAP) for graph-level classification tasks, which can adapt to both local and\\nglobal structural information in a graph. It has an attention pooling layer for\\neach message passing step and computes the final graph representation by\\nunifying the layer-wise graph representations. The MLAP architecture allows\\nmodels to utilize the structural information of graphs with multiple levels of\\nlocalities because it preserves layer-wise information before losing them due\\nto oversmoothing. Results of our experiments show that the MLAP architecture\\nimproves the graph classification performance compared to the baseline\\narchitectures. In addition, analyses on the layer-wise graph representations\\nsuggest that aggregating information from multiple levels of localities indeed\\nhas the potential to improve the discriminability of learned graph\\nrepresentations.\"]\n",
        "vectorized_text = text_vectorizer(input_text)"
      ],
      "metadata": {
        "id": "nnXAM5rz1oS1"
      },
      "execution_count": null,
      "outputs": []
    },
    {
      "cell_type": "code",
      "source": [
        "# Prepare your input sentences\n",
        "sentences = [\"Your input text here\"]\n",
        "\n",
        "# Get the embeddings\n",
        "embeddings = model.encode(sentences)\n",
        "\n",
        "print(embeddings)"
      ],
      "metadata": {
        "colab": {
          "base_uri": "https://localhost:8080/"
        },
        "id": "bAwyqeUJ1wWP",
        "outputId": "cbe31e8f-010b-45db-c352-1182dead0958"
      },
      "execution_count": null,
      "outputs": [
        {
          "output_type": "stream",
          "name": "stdout",
          "text": [
            "[[ 9.10684541e-02 -6.54331222e-03 -4.81941998e-02  1.54552180e-02\n",
            "  -7.96055794e-03  5.62628452e-03  3.31243761e-02  5.48345000e-02\n",
            "   9.48888659e-02 -2.35634372e-02  3.65550444e-02 -3.11597697e-02\n",
            "   1.34870820e-02 -1.27536329e-02 -1.13641061e-02  3.22063677e-02\n",
            "   1.21592432e-02 -6.25584647e-02 -1.34980530e-01 -9.67495963e-02\n",
            "  -3.09267957e-02  5.69839068e-02 -6.90212399e-02  6.08292315e-03\n",
            "  -1.09188884e-01  7.75142759e-02 -3.18693519e-02  5.80653511e-02\n",
            "   1.50924670e-02 -1.90909766e-02 -1.09782524e-01  1.22392951e-02\n",
            "   1.49997652e-01  1.78861115e-02  1.72142778e-02 -5.06686755e-02\n",
            "  -4.15916145e-02 -1.08418539e-02 -3.10023986e-02 -4.87000346e-02\n",
            "  -2.47970521e-02 -1.71810150e-01  1.97630636e-02 -2.91505679e-02\n",
            "   5.35954209e-03 -5.68931885e-02 -3.70458290e-02 -4.34737727e-02\n",
            "   6.23897538e-02  8.07764977e-02 -6.08622283e-02 -6.28203377e-02\n",
            "  -7.87253398e-03  3.70909274e-02 -3.62491645e-02  6.65999427e-02\n",
            "   2.06187107e-02 -4.57123369e-02  2.84682959e-02 -4.43662964e-02\n",
            "   5.77919111e-02  4.78618592e-02 -4.47849482e-02  2.94024013e-02\n",
            "   6.71325848e-02 -1.11137109e-03 -6.20256003e-04 -7.02241529e-03\n",
            "  -1.30359054e-01 -5.68061322e-02 -4.96543071e-05  5.51376045e-02\n",
            "  -3.84863019e-02 -9.80376359e-03  1.40749635e-02 -4.51894924e-02\n",
            "  -5.77406995e-02 -4.46898192e-02  9.33763608e-02  6.63016513e-02\n",
            "  -1.67471617e-02 -1.29287401e-02 -8.16204213e-03  3.96859460e-02\n",
            "   4.21490846e-03  3.06929052e-02 -2.80910666e-04  3.08828726e-02\n",
            "   6.53637871e-02 -5.01464643e-02  3.81764174e-02 -1.06293662e-02\n",
            "   1.26125161e-02  3.60162705e-02 -1.08428963e-01  2.61484999e-02\n",
            "  -1.84701569e-02 -4.85633733e-03 -4.55344021e-02  7.76490122e-02\n",
            "  -2.48251297e-02 -4.50301394e-02  1.20558003e-02 -2.28156685e-03\n",
            "   1.56942860e-03 -9.65095870e-03 -2.35440992e-02  3.83147458e-03\n",
            "   2.37347037e-02 -1.01052508e-01 -2.63937600e-02 -8.80805850e-02\n",
            "  -8.09704885e-02  6.44612908e-02 -1.18939150e-02  3.09743714e-02\n",
            "   5.31204566e-02  2.52850726e-02  6.83582127e-02 -1.29573373e-02\n",
            "  -2.49324087e-02  5.71088307e-03 -2.06618190e-01  3.87870371e-02\n",
            "  -6.73649237e-02 -9.23751667e-02  5.09734005e-02 -3.31646482e-33\n",
            "  -3.13053392e-02  3.29483002e-02  2.46446971e-02  2.09900737e-02\n",
            "  -7.36140907e-02  3.39061357e-02 -5.38267493e-02 -4.73951474e-02\n",
            "  -3.50389704e-02 -6.77357987e-02  8.33675731e-03 -5.53366840e-02\n",
            "   1.39079094e-02  3.40383053e-02 -2.31303927e-02 -5.41285351e-02\n",
            "   1.97053272e-02  5.21225408e-02  2.46039629e-02 -3.79641727e-02\n",
            "  -1.63182635e-02  1.00198612e-02 -6.67792279e-03  2.92385952e-03\n",
            "  -7.64467288e-03  6.30560219e-02  4.52903472e-02 -4.10426371e-02\n",
            "  -8.27507023e-03  2.37440206e-02  3.43693346e-02  2.22487841e-02\n",
            "   5.55749945e-02 -3.54862027e-02 -5.29832579e-02  3.96424951e-03\n",
            "   2.64203399e-02 -1.89734641e-02  1.57782156e-02 -2.29809675e-02\n",
            "   3.20733711e-02 -6.43572062e-02 -3.51130255e-02 -3.09240837e-02\n",
            "   3.49232852e-02  3.09979524e-02  7.11300671e-02 -6.98539196e-03\n",
            "  -6.65950552e-02 -7.61690512e-02 -8.12645331e-02  7.07946792e-02\n",
            "  -6.94262888e-03  1.41434185e-02 -3.77076603e-02  1.21855875e-02\n",
            "  -1.38954651e-02  7.69402310e-02 -5.74949123e-02 -1.40458373e-02\n",
            "  -6.10167673e-03  3.64024043e-02  1.89753827e-02 -7.83061311e-02\n",
            "  -6.92373663e-02 -4.62278835e-02  1.11782113e-02 -2.57006325e-02\n",
            "   6.38678744e-02 -1.71280727e-02 -9.55592543e-02 -4.19167206e-02\n",
            "   3.47321033e-02  5.29417172e-02 -1.66796390e-02 -2.38293000e-02\n",
            "   1.28662400e-03 -3.15977223e-02 -3.08448612e-03  2.44289450e-02\n",
            "  -3.57948849e-03 -1.08104728e-01  1.82916746e-02  4.04867567e-02\n",
            "   1.30358845e-01 -5.90676209e-03  2.70668720e-03 -1.23027384e-01\n",
            "   6.81265024e-03 -2.46000141e-02 -8.34387019e-02 -2.74788998e-02\n",
            "   1.81517191e-02 -6.52729943e-02 -3.54358107e-02  1.82816628e-33\n",
            "  -3.56816798e-02  6.30728081e-02 -2.37489454e-02  2.66324449e-02\n",
            "   5.95405735e-02  4.20479663e-02  6.20382689e-02  8.71646702e-02\n",
            "   1.28883034e-01  6.26124740e-02 -6.72572991e-03  8.68667513e-02\n",
            "   8.19518324e-03 -5.96747920e-02  3.01280478e-03  2.08668876e-02\n",
            "   1.91923771e-02  2.56825760e-02  7.09740212e-03  3.56072909e-03\n",
            "  -5.73463067e-02 -1.57642514e-02 -7.52789481e-03  6.08123280e-02\n",
            "  -6.48945346e-02  5.11333682e-02  8.35569724e-02  3.21899503e-02\n",
            "   3.66234332e-02  6.56600446e-02 -2.34668870e-02 -1.91411725e-03\n",
            "  -8.63659531e-02  6.39858320e-02 -1.55060207e-02 -2.08371971e-03\n",
            "   2.30626222e-02  1.86355654e-02 -5.08511104e-02  4.33845818e-02\n",
            "   5.84973954e-02  4.62172292e-02 -5.78267276e-02  1.31328121e-01\n",
            "  -3.37449946e-02 -1.93203669e-02  1.32556807e-03 -5.67424968e-02\n",
            "   6.41477853e-02  6.45989478e-02 -2.03197468e-02  1.52202873e-02\n",
            "  -3.14881094e-02 -4.32044975e-02 -3.80863249e-02  1.43870041e-02\n",
            "   1.00180820e-01  3.53336819e-02  3.01318597e-02 -3.52657549e-02\n",
            "  -4.87466305e-02  2.30573192e-02  5.07381791e-03  4.40376438e-02\n",
            "   9.29481536e-02 -1.98147222e-02  8.74760968e-04  5.17588258e-02\n",
            "   3.51740271e-02  1.06440838e-02  5.03139682e-02  1.69383958e-02\n",
            "  -2.27413215e-02 -5.19114323e-02  2.29412783e-02 -1.52264582e-02\n",
            "   8.49200226e-03 -1.57729397e-03 -6.51670173e-02 -2.03733752e-03\n",
            "   1.47421002e-01  4.32639234e-02  9.46620759e-03  1.41019206e-02\n",
            "   8.78489316e-02  8.46982468e-03  7.31271356e-02 -5.26630925e-03\n",
            "   2.66379379e-02 -3.72087918e-02 -1.56022068e-02  7.35511780e-02\n",
            "  -2.66642105e-02  5.17395958e-02 -2.79537458e-02 -1.55058864e-08\n",
            "   9.99951065e-02 -9.70749930e-03  2.51021814e-02  4.45372835e-02\n",
            "   2.17133276e-02  7.58696571e-02  5.34449369e-02 -5.60912527e-02\n",
            "  -2.49366532e-03 -6.48643672e-02  3.55276745e-03  1.20390847e-03\n",
            "  -5.34545295e-02 -3.92950028e-02  4.84301038e-02 -2.07062950e-03\n",
            "  -6.15678355e-02  4.20313552e-02  1.10218860e-02 -6.61600456e-02\n",
            "   6.46283552e-02  5.70969023e-02 -8.11177958e-03  2.30716038e-02\n",
            "   1.34523911e-02  2.16269847e-02 -4.04619351e-02  1.19012415e-01\n",
            "  -5.35624996e-02  2.59306021e-02  8.86897817e-02  7.89770782e-02\n",
            "   9.09575820e-03 -6.45204186e-02  2.76276041e-02  5.33044711e-03\n",
            "  -1.94415022e-02  3.88336694e-03  7.88637102e-02 -3.58796157e-02\n",
            "   4.13423218e-02  6.42457278e-03 -9.59364139e-03 -7.76024833e-02\n",
            "  -7.67200813e-02  4.14334722e-02  8.85888860e-02 -3.28047313e-02\n",
            "  -2.08434537e-02 -4.54656258e-02 -6.14221487e-03  2.44355723e-02\n",
            "   6.21052384e-02 -3.40884440e-02  4.56821136e-02 -5.42647317e-02\n",
            "   2.68900283e-02 -1.63465820e-03 -7.06634969e-02  4.36930843e-02\n",
            "   8.61144736e-02  7.65561610e-02  6.23394735e-03 -6.22935295e-02]]\n"
          ]
        }
      ]
    },
    {
      "cell_type": "code",
      "source": [
        "from tensorflow import keras\n",
        "import pickle\n",
        "\n",
        "# Load the model\n",
        "loaded_model = keras.models.load_model(\"models/model.h5\")\n",
        "\n",
        "from tensorflow.keras.layers import TextVectorization\n",
        "\n",
        "# Load the configuration of the text vectorizer\n",
        "with open(\"models/text_vectorizer_config.pkl\", \"rb\") as f:\n",
        "    saved_text_vectorizer_config = pickle.load(f)\n",
        "\n",
        "# Create a new TextVectorization layer with the saved configuration\n",
        "loaded_text_vectorizer = TextVectorization.from_config(saved_text_vectorizer_config)\n",
        "\n",
        "# Load the saved weights into the new TextVectorization layer\n",
        "with open(\"models/text_vectorizer_weights.pkl\", \"rb\") as f:\n",
        "    weights = pickle.load(f)\n",
        "    loaded_text_vectorizer.set_weights(weights)\n"
      ],
      "metadata": {
        "colab": {
          "base_uri": "https://localhost:8080/",
          "height": 352
        },
        "id": "yEOL5jVma8Q1",
        "outputId": "82ad9517-693d-4616-c9a6-7f12a118024d"
      },
      "execution_count": null,
      "outputs": [
        {
          "output_type": "stream",
          "name": "stderr",
          "text": [
            "WARNING:absl:Compiled the loaded model, but the compiled metrics have yet to be built. `model.compile_metrics` will be empty until you train or evaluate the model.\n"
          ]
        },
        {
          "output_type": "error",
          "ename": "ValueError",
          "evalue": "You called `set_weights(weights)` on layer 'text_vectorization' with a weight list of length 3, but the layer was expecting 0 weights.",
          "traceback": [
            "\u001b[0;31m---------------------------------------------------------------------------\u001b[0m",
            "\u001b[0;31mValueError\u001b[0m                                Traceback (most recent call last)",
            "\u001b[0;32m<ipython-input-48-640251ecad49>\u001b[0m in \u001b[0;36m<cell line: 17>\u001b[0;34m()\u001b[0m\n\u001b[1;32m     17\u001b[0m \u001b[0;32mwith\u001b[0m \u001b[0mopen\u001b[0m\u001b[0;34m(\u001b[0m\u001b[0;34m\"models/text_vectorizer_weights.pkl\"\u001b[0m\u001b[0;34m,\u001b[0m \u001b[0;34m\"rb\"\u001b[0m\u001b[0;34m)\u001b[0m \u001b[0;32mas\u001b[0m \u001b[0mf\u001b[0m\u001b[0;34m:\u001b[0m\u001b[0;34m\u001b[0m\u001b[0;34m\u001b[0m\u001b[0m\n\u001b[1;32m     18\u001b[0m     \u001b[0mweights\u001b[0m \u001b[0;34m=\u001b[0m \u001b[0mpickle\u001b[0m\u001b[0;34m.\u001b[0m\u001b[0mload\u001b[0m\u001b[0;34m(\u001b[0m\u001b[0mf\u001b[0m\u001b[0;34m)\u001b[0m\u001b[0;34m\u001b[0m\u001b[0;34m\u001b[0m\u001b[0m\n\u001b[0;32m---> 19\u001b[0;31m     \u001b[0mloaded_text_vectorizer\u001b[0m\u001b[0;34m.\u001b[0m\u001b[0mset_weights\u001b[0m\u001b[0;34m(\u001b[0m\u001b[0mweights\u001b[0m\u001b[0;34m)\u001b[0m\u001b[0;34m\u001b[0m\u001b[0;34m\u001b[0m\u001b[0m\n\u001b[0m",
            "\u001b[0;32m/usr/local/lib/python3.10/dist-packages/keras/src/layers/layer.py\u001b[0m in \u001b[0;36mset_weights\u001b[0;34m(self, weights)\u001b[0m\n\u001b[1;32m    675\u001b[0m         \u001b[0mlayer_weights\u001b[0m \u001b[0;34m=\u001b[0m \u001b[0mself\u001b[0m\u001b[0;34m.\u001b[0m\u001b[0mweights\u001b[0m\u001b[0;34m\u001b[0m\u001b[0;34m\u001b[0m\u001b[0m\n\u001b[1;32m    676\u001b[0m         \u001b[0;32mif\u001b[0m \u001b[0mlen\u001b[0m\u001b[0;34m(\u001b[0m\u001b[0mlayer_weights\u001b[0m\u001b[0;34m)\u001b[0m \u001b[0;34m!=\u001b[0m \u001b[0mlen\u001b[0m\u001b[0;34m(\u001b[0m\u001b[0mweights\u001b[0m\u001b[0;34m)\u001b[0m\u001b[0;34m:\u001b[0m\u001b[0;34m\u001b[0m\u001b[0;34m\u001b[0m\u001b[0m\n\u001b[0;32m--> 677\u001b[0;31m             raise ValueError(\n\u001b[0m\u001b[1;32m    678\u001b[0m                 \u001b[0;34mf\"You called `set_weights(weights)` on layer '{self.name}' \"\u001b[0m\u001b[0;34m\u001b[0m\u001b[0;34m\u001b[0m\u001b[0m\n\u001b[1;32m    679\u001b[0m                 \u001b[0;34mf\"with a weight list of length {len(weights)}, but the layer \"\u001b[0m\u001b[0;34m\u001b[0m\u001b[0;34m\u001b[0m\u001b[0m\n",
            "\u001b[0;31mValueError\u001b[0m: You called `set_weights(weights)` on layer 'text_vectorization' with a weight list of length 3, but the layer was expecting 0 weights."
          ]
        }
      ]
    },
    {
      "cell_type": "code",
      "source": [
        "# Load the vocabulary\n",
        "with open(\"models/vocab.pkl\", \"rb\") as f:\n",
        "    loaded_vocab = pickle.load(f)\n"
      ],
      "metadata": {
        "id": "PPbjWWvTa8Ud"
      },
      "execution_count": null,
      "outputs": []
    },
    {
      "cell_type": "code",
      "source": [
        "# Example usage\n",
        "new_abstract = \"Graph neural networks (GNNs) have been widely used to learn vector\\nrepresentation of graph-structured data and achieved better task performance\\nthan conventional methods. The foundation of GNNs is the message passing\\nprocedure, which propagates the information in a node to its neighbors. Since\\nthis procedure proceeds one step per layer, the range of the information\\npropagation among nodes is small in the lower layers, and it expands toward the\\nhigher layers. Therefore, a GNN model has to be deep enough to capture global\\nstructural information in a graph. On the other hand, it is known that deep GNN\\nmodels suffer from performance degradation because they lose nodes' local\\ninformation, which would be essential for good model performance, through many\\nmessage passing steps. In this study, we propose multi-level attention pooling\\n(MLAP) for graph-level classification tasks, which can adapt to both local and\\nglobal structural information in a graph. It has an attention pooling layer for\\neach message passing step and computes the final graph representation by\\nunifying the layer-wise graph representations. The MLAP architecture allows\\nmodels to utilize the structural information of graphs with multiple levels of\\nlocalities because it preserves layer-wise information before losing them due\\nto oversmoothing. Results of our experiments show that the MLAP architecture\\nimproves the graph classification performance compared to the baseline\\narchitectures. In addition, analyses on the layer-wise graph representations\\nsuggest that aggregating information from multiple levels of localities indeed\\nhas the potential to improve the discriminability of learned graph\\nrepresentations.\"\n",
        "predicted_categories = predict_category(new_abstract, loaded_model, loaded_text_vectorizer, invert_multi_hot)\n",
        "print(\"Predicted Categories:\", predicted_categories)\n"
      ],
      "metadata": {
        "colab": {
          "base_uri": "https://localhost:8080/",
          "height": 824
        },
        "id": "pGZ424LJaa0a",
        "outputId": "8299b8c1-388f-4c4e-8a1d-be01efc6ee78"
      },
      "execution_count": null,
      "outputs": [
        {
          "output_type": "error",
          "ename": "FailedPreconditionError",
          "evalue": "Exception encountered when calling TextVectorization.call().\n\n\u001b[1m{{function_node __wrapped__LookupTableFindV2_device_/job:localhost/replica:0/task:0/device:CPU:0}} Table not initialized. [Op:LookupTableFindV2] name: \u001b[0m\n\nArguments received by TextVectorization.call():\n  • inputs=['\"Graph neural networks (GNNs) have been widely used to learn vector\\\\nrepresentation of graph-structured data and achieved better task performance\\\\nthan conventional methods. The foundation of GNNs is the message passing\\\\nprocedure, which propagates the information in a node to its neighbors. Since\\\\nthis procedure proceeds one step per layer, the range of the information\\\\npropagation among nodes is small in the lower layers, and it expands toward the\\\\nhigher layers. Therefore, a GNN model has to be deep enough to capture global\\\\nstructural information in a graph. On the other hand, it is known that deep GNN\\\\nmodels suffer from performance degradation because they lose nodes\\' local\\\\ninformation, which would be essential for good model performance, through many\\\\nmessage passing steps. In this study, we propose multi-level attention pooling\\\\n(MLAP) for graph-level classification tasks, which can adapt to both local and\\\\nglobal structural information in a graph. It has an attention pooling layer for\\\\neach message passing step and computes the final graph representation by\\\\nunifying the layer-wise graph representations. The MLAP architecture allows\\\\nmodels to utilize the structural information of graphs with multiple levels of\\\\nlocalities because it preserves layer-wise information before losing them due\\\\nto oversmoothing. Results of our experiments show that the MLAP architecture\\\\nimproves the graph classification performance compared to the baseline\\\\narchitectures. In addition, analyses on the layer-wise graph representations\\\\nsuggest that aggregating information from multiple levels of localities indeed\\\\nhas the potential to improve the discriminability of learned graph\\\\nrepresentations.\"']",
          "traceback": [
            "\u001b[0;31m---------------------------------------------------------------------------\u001b[0m",
            "\u001b[0;31mFailedPreconditionError\u001b[0m                   Traceback (most recent call last)",
            "\u001b[0;32m<ipython-input-50-02b2e3a15d38>\u001b[0m in \u001b[0;36m<cell line: 3>\u001b[0;34m()\u001b[0m\n\u001b[1;32m      1\u001b[0m \u001b[0;31m# Example usage\u001b[0m\u001b[0;34m\u001b[0m\u001b[0;34m\u001b[0m\u001b[0m\n\u001b[1;32m      2\u001b[0m \u001b[0mnew_abstract\u001b[0m \u001b[0;34m=\u001b[0m \u001b[0;34m\"Graph neural networks (GNNs) have been widely used to learn vector\\nrepresentation of graph-structured data and achieved better task performance\\nthan conventional methods. The foundation of GNNs is the message passing\\nprocedure, which propagates the information in a node to its neighbors. Since\\nthis procedure proceeds one step per layer, the range of the information\\npropagation among nodes is small in the lower layers, and it expands toward the\\nhigher layers. Therefore, a GNN model has to be deep enough to capture global\\nstructural information in a graph. On the other hand, it is known that deep GNN\\nmodels suffer from performance degradation because they lose nodes' local\\ninformation, which would be essential for good model performance, through many\\nmessage passing steps. In this study, we propose multi-level attention pooling\\n(MLAP) for graph-level classification tasks, which can adapt to both local and\\nglobal structural information in a graph. It has an attention pooling layer for\\neach message passing step and computes the final graph representation by\\nunifying the layer-wise graph representations. The MLAP architecture allows\\nmodels to utilize the structural information of graphs with multiple levels of\\nlocalities because it preserves layer-wise information before losing them due\\nto oversmoothing. Results of our experiments show that the MLAP architecture\\nimproves the graph classification perf...\n\u001b[0;32m----> 3\u001b[0;31m \u001b[0mpredicted_categories\u001b[0m \u001b[0;34m=\u001b[0m \u001b[0mpredict_category\u001b[0m\u001b[0;34m(\u001b[0m\u001b[0mnew_abstract\u001b[0m\u001b[0;34m,\u001b[0m \u001b[0mloaded_model\u001b[0m\u001b[0;34m,\u001b[0m \u001b[0mloaded_text_vectorizer\u001b[0m\u001b[0;34m,\u001b[0m \u001b[0minvert_multi_hot\u001b[0m\u001b[0;34m)\u001b[0m\u001b[0;34m\u001b[0m\u001b[0;34m\u001b[0m\u001b[0m\n\u001b[0m\u001b[1;32m      4\u001b[0m \u001b[0mprint\u001b[0m\u001b[0;34m(\u001b[0m\u001b[0;34m\"Predicted Categories:\"\u001b[0m\u001b[0;34m,\u001b[0m \u001b[0mpredicted_categories\u001b[0m\u001b[0;34m)\u001b[0m\u001b[0;34m\u001b[0m\u001b[0;34m\u001b[0m\u001b[0m\n",
            "\u001b[0;32m<ipython-input-35-6e3850bfef16>\u001b[0m in \u001b[0;36mpredict_category\u001b[0;34m(abstract, model, vectorizer, label_lookup)\u001b[0m\n\u001b[1;32m      1\u001b[0m \u001b[0;32mdef\u001b[0m \u001b[0mpredict_category\u001b[0m\u001b[0;34m(\u001b[0m\u001b[0mabstract\u001b[0m\u001b[0;34m,\u001b[0m \u001b[0mmodel\u001b[0m\u001b[0;34m,\u001b[0m \u001b[0mvectorizer\u001b[0m\u001b[0;34m,\u001b[0m \u001b[0mlabel_lookup\u001b[0m\u001b[0;34m)\u001b[0m\u001b[0;34m:\u001b[0m\u001b[0;34m\u001b[0m\u001b[0;34m\u001b[0m\u001b[0m\n\u001b[1;32m      2\u001b[0m     \u001b[0;31m# Preprocess the abstract using the loaded text vectorizer\u001b[0m\u001b[0;34m\u001b[0m\u001b[0;34m\u001b[0m\u001b[0m\n\u001b[0;32m----> 3\u001b[0;31m     \u001b[0mpreprocessed_abstract\u001b[0m \u001b[0;34m=\u001b[0m \u001b[0mvectorizer\u001b[0m\u001b[0;34m(\u001b[0m\u001b[0;34m[\u001b[0m\u001b[0mabstract\u001b[0m\u001b[0;34m]\u001b[0m\u001b[0;34m)\u001b[0m\u001b[0;34m\u001b[0m\u001b[0;34m\u001b[0m\u001b[0m\n\u001b[0m\u001b[1;32m      4\u001b[0m \u001b[0;34m\u001b[0m\u001b[0m\n\u001b[1;32m      5\u001b[0m     \u001b[0;31m# Make predictions using the loaded model\u001b[0m\u001b[0;34m\u001b[0m\u001b[0;34m\u001b[0m\u001b[0m\n",
            "\u001b[0;32m/usr/local/lib/python3.10/dist-packages/keras/src/utils/traceback_utils.py\u001b[0m in \u001b[0;36merror_handler\u001b[0;34m(*args, **kwargs)\u001b[0m\n\u001b[1;32m    120\u001b[0m             \u001b[0;31m# To get the full stack trace, call:\u001b[0m\u001b[0;34m\u001b[0m\u001b[0;34m\u001b[0m\u001b[0m\n\u001b[1;32m    121\u001b[0m             \u001b[0;31m# `keras.config.disable_traceback_filtering()`\u001b[0m\u001b[0;34m\u001b[0m\u001b[0;34m\u001b[0m\u001b[0m\n\u001b[0;32m--> 122\u001b[0;31m             \u001b[0;32mraise\u001b[0m \u001b[0me\u001b[0m\u001b[0;34m.\u001b[0m\u001b[0mwith_traceback\u001b[0m\u001b[0;34m(\u001b[0m\u001b[0mfiltered_tb\u001b[0m\u001b[0;34m)\u001b[0m \u001b[0;32mfrom\u001b[0m \u001b[0;32mNone\u001b[0m\u001b[0;34m\u001b[0m\u001b[0;34m\u001b[0m\u001b[0m\n\u001b[0m\u001b[1;32m    123\u001b[0m         \u001b[0;32mfinally\u001b[0m\u001b[0;34m:\u001b[0m\u001b[0;34m\u001b[0m\u001b[0;34m\u001b[0m\u001b[0m\n\u001b[1;32m    124\u001b[0m             \u001b[0;32mdel\u001b[0m \u001b[0mfiltered_tb\u001b[0m\u001b[0;34m\u001b[0m\u001b[0;34m\u001b[0m\u001b[0m\n",
            "\u001b[0;32m/usr/local/lib/python3.10/dist-packages/keras/src/layers/preprocessing/index_lookup.py\u001b[0m in \u001b[0;36m_lookup_dense\u001b[0;34m(self, inputs)\u001b[0m\n\u001b[1;32m    767\u001b[0m             \u001b[0mlookups\u001b[0m \u001b[0;34m=\u001b[0m \u001b[0mtf\u001b[0m\u001b[0;34m.\u001b[0m\u001b[0mzeros_like\u001b[0m\u001b[0;34m(\u001b[0m\u001b[0minputs\u001b[0m\u001b[0;34m,\u001b[0m \u001b[0mdtype\u001b[0m\u001b[0;34m=\u001b[0m\u001b[0mself\u001b[0m\u001b[0;34m.\u001b[0m\u001b[0m_value_dtype\u001b[0m\u001b[0;34m)\u001b[0m\u001b[0;34m\u001b[0m\u001b[0;34m\u001b[0m\u001b[0m\n\u001b[1;32m    768\u001b[0m         \u001b[0;32melse\u001b[0m\u001b[0;34m:\u001b[0m\u001b[0;34m\u001b[0m\u001b[0;34m\u001b[0m\u001b[0m\n\u001b[0;32m--> 769\u001b[0;31m             \u001b[0mlookups\u001b[0m \u001b[0;34m=\u001b[0m \u001b[0mself\u001b[0m\u001b[0;34m.\u001b[0m\u001b[0mlookup_table\u001b[0m\u001b[0;34m.\u001b[0m\u001b[0mlookup\u001b[0m\u001b[0;34m(\u001b[0m\u001b[0minputs\u001b[0m\u001b[0;34m)\u001b[0m\u001b[0;34m\u001b[0m\u001b[0;34m\u001b[0m\u001b[0m\n\u001b[0m\u001b[1;32m    770\u001b[0m \u001b[0;34m\u001b[0m\u001b[0m\n\u001b[1;32m    771\u001b[0m         \u001b[0;32mif\u001b[0m \u001b[0mself\u001b[0m\u001b[0;34m.\u001b[0m\u001b[0mmask_token\u001b[0m \u001b[0;32mis\u001b[0m \u001b[0;32mnot\u001b[0m \u001b[0;32mNone\u001b[0m\u001b[0;34m:\u001b[0m\u001b[0;34m\u001b[0m\u001b[0;34m\u001b[0m\u001b[0m\n",
            "\u001b[0;31mFailedPreconditionError\u001b[0m: Exception encountered when calling TextVectorization.call().\n\n\u001b[1m{{function_node __wrapped__LookupTableFindV2_device_/job:localhost/replica:0/task:0/device:CPU:0}} Table not initialized. [Op:LookupTableFindV2] name: \u001b[0m\n\nArguments received by TextVectorization.call():\n  • inputs=['\"Graph neural networks (GNNs) have been widely used to learn vector\\\\nrepresentation of graph-structured data and achieved better task performance\\\\nthan conventional methods. The foundation of GNNs is the message passing\\\\nprocedure, which propagates the information in a node to its neighbors. Since\\\\nthis procedure proceeds one step per layer, the range of the information\\\\npropagation among nodes is small in the lower layers, and it expands toward the\\\\nhigher layers. Therefore, a GNN model has to be deep enough to capture global\\\\nstructural information in a graph. On the other hand, it is known that deep GNN\\\\nmodels suffer from performance degradation because they lose nodes\\' local\\\\ninformation, which would be essential for good model performance, through many\\\\nmessage passing steps. In this study, we propose multi-level attention pooling\\\\n(MLAP) for graph-level classification tasks, which can adapt to both local and\\\\nglobal structural information in a graph. It has an attention pooling layer for\\\\neach message passing step and computes the final graph representation by\\\\nunifying the layer-wise graph representations. The MLAP architecture allows\\\\nmodels to utilize the structural information of graphs with multiple levels of\\\\nlocalities because it preserves layer-wise information before losing them due\\\\nto oversmoothing. Results of our experiments show that the MLAP architecture\\\\nimproves the graph classification performance compared to the base..."
          ]
        }
      ]
    },
    {
      "cell_type": "code",
      "source": [
        "# Example usage\n",
        "new_abstract = 'Deep networks and decision forests (such as random forests and gradient\\nboosted trees) are the leading machine learning methods for structured and\\ntabular data, respectively. Many papers have empirically compared large numbers\\nof classifiers on one or two different domains (e.g., on 100 different tabular\\ndata settings). However, a careful conceptual and empirical comparison of these\\ntwo strategies using the most contemporary best practices has yet to be\\nperformed. Conceptually, we illustrate that both can be profitably viewed as\\n\"partition and vote\" schemes. Specifically, the representation space that they\\nboth learn is a partitioning of feature space into a union of convex polytopes.\\nFor inference, each decides on the basis of votes from the activated nodes.\\nThis formulation allows for a unified basic understanding of the relationship\\nbetween these methods. Empirically, we compare these two strategies on hundreds\\nof tabular data settings, as well as several vision and auditory settings. Our\\nfocus is on datasets with at most 10,000 samples, which represent a large\\nfraction of scientific and biomedical datasets. In general, we found forests to\\nexcel at tabular and structured data (vision and audition) with small sample\\nsizes, whereas deep nets performed better on structured data with larger sample\\nsizes. This suggests that further gains in both scenarios may be realized via\\nfurther combining aspects of forests and networks. We will continue revising\\nthis technical report in the coming months with updated results.'\n",
        "predicted_categories = predict_category(new_abstract, loaded_model, loaded_text_vectorizer, invert_multi_hot)\n",
        "print(\"Predicted Categories:\", predicted_categories)"
      ],
      "metadata": {
        "id": "0LEJvsRhYNwG"
      },
      "execution_count": null,
      "outputs": []
    },
    {
      "cell_type": "code",
      "source": [],
      "metadata": {
        "id": "wJjev30EYNzV"
      },
      "execution_count": null,
      "outputs": []
    }
  ]
}